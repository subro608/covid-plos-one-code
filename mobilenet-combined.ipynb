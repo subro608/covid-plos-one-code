{
 "cells": [
  {
   "cell_type": "code",
   "execution_count": 1,
   "metadata": {
    "_cell_guid": "b1076dfc-b9ad-4769-8c92-a6c4dae69d19",
    "_uuid": "8f2839f25d086af736a60e9eeb907d3b93b6e0e5",
    "execution": {
     "iopub.execute_input": "2020-11-23T06:09:43.744559Z",
     "iopub.status.busy": "2020-11-23T06:09:43.743756Z",
     "iopub.status.idle": "2020-11-23T06:09:53.724111Z",
     "shell.execute_reply": "2020-11-23T06:09:53.723038Z"
    },
    "papermill": {
     "duration": 10.000682,
     "end_time": "2020-11-23T06:09:53.724308",
     "exception": false,
     "start_time": "2020-11-23T06:09:43.723626",
     "status": "completed"
    },
    "tags": []
   },
   "outputs": [],
   "source": [
    "import os,glob\n",
    "import numpy as np\n",
    "import cv2\n",
    "import glob\n",
    "import pickle\n",
    "import tensorflow as tf\n",
    "import argparse\n",
    "import re\n",
    "import datetime\n",
    "from tensorflow.keras.layers import  Input,Conv2D,BatchNormalization,Activation,Subtract,LeakyReLU,Add,Average,Lambda,MaxPool2D,Dropout,UpSampling2D,Concatenate,Multiply,GlobalAveragePooling2D,Dense,ZeroPadding2D,AveragePooling2D\n",
    "from tensorflow.keras.layers import concatenate,Flatten,ConvLSTM2D,LayerNormalization,GlobalAveragePooling2D\n",
    "from tensorflow.keras.models import Model, load_model\n",
    "from tensorflow.keras.callbacks import CSVLogger, ModelCheckpoint, LearningRateScheduler\n",
    "from tensorflow.keras.optimizers import Adam\n",
    "from tensorflow.keras import Sequential\n",
    "import tensorflow.keras.backend as K\n",
    "from sklearn.svm import LinearSVC\n",
    "import matplotlib.pyplot as plt\n",
    "from numpy import loadtxt\n",
    "from xgboost import XGBClassifier\n",
    "from sklearn.model_selection import train_test_split\n",
    "from sklearn.metrics import accuracy_score\n",
    "from skimage.feature import hog,local_binary_pattern\n",
    "from skimage import data, exposure\n",
    "from tensorflow.keras.layers import Layer "
   ]
  },
  {
   "cell_type": "code",
   "execution_count": 2,
   "metadata": {
    "execution": {
     "iopub.execute_input": "2020-11-23T06:09:53.757891Z",
     "iopub.status.busy": "2020-11-23T06:09:53.757022Z",
     "iopub.status.idle": "2020-11-23T06:10:15.996100Z",
     "shell.execute_reply": "2020-11-23T06:10:15.996604Z"
    },
    "papermill": {
     "duration": 22.262685,
     "end_time": "2020-11-23T06:10:15.996740",
     "exception": false,
     "start_time": "2020-11-23T06:09:53.734055",
     "status": "completed"
    },
    "tags": []
   },
   "outputs": [
    {
     "name": "stdout",
     "output_type": "stream",
     "text": [
      "Cloning into 'covid-chestxray-dataset'...\r\n",
      "remote: Enumerating objects: 3614, done.\u001b[K\r\n",
      "remote: Total 3614 (delta 0), reused 0 (delta 0), pack-reused 3614\u001b[K\r\n",
      "Receiving objects: 100% (3614/3614), 632.87 MiB | 40.75 MiB/s, done.\r\n",
      "Resolving deltas: 100% (1433/1433), done.\r\n",
      "Checking out files: 100% (1173/1173), done.\r\n",
      "Number of covid-19 files\n",
      "924\n"
     ]
    }
   ],
   "source": [
    "\n",
    "!git clone https://github.com/ieee8023/covid-chestxray-dataset.git\n",
    "\n",
    "normal_dir = \"./covid-chestxray-dataset/images\"\n",
    "dir1 = os.path.join(normal_dir,\"*.png\")\n",
    "dir = os.path.join(normal_dir,\"*.jpg\")\n",
    "dir2 = os.path.join(normal_dir,\"*.jpeg\")\n",
    "covid_files = glob.glob(dir)\n",
    "covid_files2 = glob.glob(dir2)\n",
    "covid_files1 = glob.glob(dir1)\n",
    "covid_files.extend(covid_files2)\n",
    "covid_files.extend(covid_files1)\n",
    "print(\"Number of covid-19 files\")\n",
    "print(len(covid_files))"
   ]
  },
  {
   "cell_type": "code",
   "execution_count": 3,
   "metadata": {
    "execution": {
     "iopub.execute_input": "2020-11-23T06:10:16.092744Z",
     "iopub.status.busy": "2020-11-23T06:10:16.092016Z",
     "iopub.status.idle": "2020-11-23T06:11:51.029158Z",
     "shell.execute_reply": "2020-11-23T06:11:51.029885Z"
    },
    "papermill": {
     "duration": 94.996441,
     "end_time": "2020-11-23T06:11:51.030052",
     "exception": false,
     "start_time": "2020-11-23T06:10:16.033611",
     "status": "completed"
    },
    "tags": []
   },
   "outputs": [
    {
     "name": "stdout",
     "output_type": "stream",
     "text": [
      "Number of normal files\n",
      "1341\n",
      "Number of Pneumonia files\n",
      "3875\n",
      "4911 1229\n",
      "Shape of training data\n",
      "(4911, 224, 224, 3)\n",
      "Shape of training labels\n",
      "(4911, 3)\n",
      "^_^-training data finished-^_^\n"
     ]
    }
   ],
   "source": [
    "normal_dir = \"../input/chest-xray-pneumonia/chest_xray/train/NORMAL\"\n",
    "dir1 = os.path.join(normal_dir,\"*.png\")\n",
    "dir2 = os.path.join(normal_dir,\"*.jpeg\")\n",
    "dir = os.path.join(normal_dir,\"*.jpg\")\n",
    "normal_files = glob.glob(dir)\n",
    "normal_1 = glob.glob(dir1)\n",
    "normal_2 = glob.glob(dir2)\n",
    "normal_files.extend(normal_1)\n",
    "normal_files.extend(normal_2)\n",
    "print(\"Number of normal files\")\n",
    "print(len(normal_files))\n",
    "\n",
    "normal_dir = \"../input/chest-xray-pneumonia/chest_xray/train/PNEUMONIA\"\n",
    "dir1 = os.path.join(normal_dir,\"*.png\")\n",
    "dir2 = os.path.join(normal_dir,\"*.jpeg\")\n",
    "dir = os.path.join(normal_dir,\"*.jpg\")\n",
    "pneumonia_files = glob.glob(dir)\n",
    "pneumonia_1 = glob.glob(dir1)\n",
    "pneumonia_2 = glob.glob(dir2)\n",
    "pneumonia_files.extend(pneumonia_1)\n",
    "pneumonia_files.extend(pneumonia_2)\n",
    "\n",
    "train_dic = {}\n",
    "for f in covid_files[:739]:\n",
    "  train_dic[f] = [1,0,0]\n",
    "for f in normal_files[:1072]:\n",
    "  train_dic[f] = [0,1,0]\n",
    "for f in pneumonia_files[:3100]:\n",
    "  train_dic[f] = [0,0,1]\n",
    "print(\"Number of Pneumonia files\")\n",
    "print(len(pneumonia_files))\n",
    "\n",
    "test_dic = {}\n",
    "for f in covid_files[739:]:\n",
    "  test_dic[f] = [1,0,0]\n",
    "for f in normal_files[1072:]:\n",
    "  test_dic[f] = [0,1,0]\n",
    "for f in pneumonia_files[3100:]:\n",
    "  test_dic[f] = [0,0,1]\n",
    "\n",
    "import random\n",
    "l = list(train_dic.items())\n",
    "random.shuffle(l)\n",
    "l_test = list(test_dic.items())\n",
    "random.shuffle(l_test)\n",
    "print(len(l),len(l_test))\n",
    "\n",
    "\n",
    "train_features = []\n",
    "covid_dic_list = {}\n",
    "data = []\n",
    "data_112 = []\n",
    "data_56 = []\n",
    "data_256 = []\n",
    "labels = []\n",
    "for i in range(len(l)):\n",
    "  file_name,label = l[i]\n",
    "  img = cv2.imread(file_name)\n",
    "  try:\n",
    "    img = cv2.resize(img,(224,224),interpolation = cv2.INTER_CUBIC)\n",
    "    #img2 = cv2.resize(img,(256,256),interpolation = cv2.INTER_CUBIC)\n",
    "    #img3 = cv2.resize(img,(112,112),interpolation = cv2.INTER_CUBIC)\n",
    "    #img4 = cv2.resize(img,(56,56),interpolation = cv2.INTER_CUBIC)\n",
    "    \n",
    "    img = img.astype('float32')/255.0\n",
    "    #img2 = img2.astype('float16')/255.0\n",
    "    #img3 = img3.astype('float32')/255.0\n",
    "    #img4 = img4.astype('float16')/255.0\n",
    "    \n",
    "    #data_56.append(img4)\n",
    "    #data_112.append(img3)\n",
    "    #data_256.append(img)2\n",
    "    data.append(img)\n",
    "    labels.append(label)\n",
    "\n",
    "  except:\n",
    "    print(i,file_name)\n",
    "    print(\"Not possible\")  \n",
    "train_data = np.array(data)\n",
    "print(\"Shape of training data\")\n",
    "print(train_data.shape)\n",
    "\n",
    "\n",
    "#train_data_56 = np.array(data_56)\n",
    "#print(train_data_56.shape)\n",
    "#train_data_112 = np.array(data_112)\n",
    "#print(train_data_112.shape)\n",
    "#train_data_256 = np.array(data_256)\n",
    "#print(train_data_256.shape)\n",
    "\n",
    "\n",
    "train_labels = np.array(labels)\n",
    "print(\"Shape of training labels\")\n",
    "print(train_labels.shape)    \n",
    "\n",
    "print('^_^-training data finished-^_^')\n"
   ]
  },
  {
   "cell_type": "code",
   "execution_count": 4,
   "metadata": {
    "execution": {
     "iopub.execute_input": "2020-11-23T06:11:51.112451Z",
     "iopub.status.busy": "2020-11-23T06:11:51.107688Z",
     "iopub.status.idle": "2020-11-23T06:11:57.226075Z",
     "shell.execute_reply": "2020-11-23T06:11:57.224834Z"
    },
    "papermill": {
     "duration": 6.159934,
     "end_time": "2020-11-23T06:11:57.226206",
     "exception": false,
     "start_time": "2020-11-23T06:11:51.066272",
     "status": "completed"
    },
    "tags": []
   },
   "outputs": [
    {
     "name": "stdout",
     "output_type": "stream",
     "text": [
      "Downloading data from https://storage.googleapis.com/tensorflow/keras-applications/mobilenet_v2/mobilenet_v2_weights_tf_dim_ordering_tf_kernels_1.0_224_no_top.h5\n",
      "9412608/9406464 [==============================] - 0s 0us/step\n"
     ]
    }
   ],
   "source": [
    "mobilenet_model = tf.keras.applications.MobileNetV2(include_top=False,weights='imagenet',classes = 3)"
   ]
  },
  {
   "cell_type": "code",
   "execution_count": 5,
   "metadata": {
    "execution": {
     "iopub.execute_input": "2020-11-23T06:11:57.314575Z",
     "iopub.status.busy": "2020-11-23T06:11:57.312887Z",
     "iopub.status.idle": "2020-11-23T06:11:57.315299Z",
     "shell.execute_reply": "2020-11-23T06:11:57.315809Z"
    },
    "papermill": {
     "duration": 0.051173,
     "end_time": "2020-11-23T06:11:57.315943",
     "exception": false,
     "start_time": "2020-11-23T06:11:57.264770",
     "status": "completed"
    },
    "tags": []
   },
   "outputs": [],
   "source": [
    "mobilenet_model.trainable = False"
   ]
  },
  {
   "cell_type": "code",
   "execution_count": 6,
   "metadata": {
    "execution": {
     "iopub.execute_input": "2020-11-23T06:11:57.410832Z",
     "iopub.status.busy": "2020-11-23T06:11:57.407460Z",
     "iopub.status.idle": "2020-11-23T06:22:34.080249Z",
     "shell.execute_reply": "2020-11-23T06:22:34.080744Z"
    },
    "papermill": {
     "duration": 636.726917,
     "end_time": "2020-11-23T06:22:34.080891",
     "exception": false,
     "start_time": "2020-11-23T06:11:57.353974",
     "status": "completed"
    },
    "tags": []
   },
   "outputs": [
    {
     "name": "stdout",
     "output_type": "stream",
     "text": [
      "Model: \"functional_1\"\n",
      "__________________________________________________________________________________________________\n",
      "Layer (type)                    Output Shape         Param #     Connected to                     \n",
      "==================================================================================================\n",
      "input_2 (InputLayer)            [(None, 224, 224, 3) 0                                            \n",
      "__________________________________________________________________________________________________\n",
      "mobilenetv2_1.00_224 (Functiona (None, None, None, 1 2257984     input_2[0][0]                    \n",
      "__________________________________________________________________________________________________\n",
      "tf_op_layer_ExpandDims (TensorF [(None, 1, 7, 7, 128 0           mobilenetv2_1.00_224[0][0]       \n",
      "__________________________________________________________________________________________________\n",
      "conv_lst_m2d (ConvLSTM2D)       (None, 7, 7, 512)    3672064     tf_op_layer_ExpandDims[0][0]     \n",
      "__________________________________________________________________________________________________\n",
      "batch_normalization (BatchNorma (None, 7, 7, 512)    2048        conv_lst_m2d[0][0]               \n",
      "__________________________________________________________________________________________________\n",
      "activation (Activation)         (None, 7, 7, 512)    0           batch_normalization[0][0]        \n",
      "__________________________________________________________________________________________________\n",
      "global_average_pooling2d (Globa (None, 512)          0           activation[0][0]                 \n",
      "__________________________________________________________________________________________________\n",
      "dense (Dense)                   (None, 32)           16416       global_average_pooling2d[0][0]   \n",
      "__________________________________________________________________________________________________\n",
      "dense_1 (Dense)                 (None, 512)          16896       dense[0][0]                      \n",
      "__________________________________________________________________________________________________\n",
      "multiply (Multiply)             (None, 7, 7, 512)    0           activation[0][0]                 \n",
      "                                                                 dense_1[0][0]                    \n",
      "__________________________________________________________________________________________________\n",
      "flatten (Flatten)               (None, 25088)        0           multiply[0][0]                   \n",
      "__________________________________________________________________________________________________\n",
      "dense_2 (Dense)                 (None, 4096)         102764544   flatten[0][0]                    \n",
      "__________________________________________________________________________________________________\n",
      "dense_3 (Dense)                 (None, 4096)         16781312    dense_2[0][0]                    \n",
      "__________________________________________________________________________________________________\n",
      "dense_4 (Dense)                 (None, 3)            12291       dense_3[0][0]                    \n",
      "==================================================================================================\n",
      "Total params: 125,523,555\n",
      "Trainable params: 123,264,547\n",
      "Non-trainable params: 2,259,008\n",
      "__________________________________________________________________________________________________\n",
      "Epoch 1/60\n",
      "154/154 [==============================] - 11s 70ms/step - loss: 0.6860 - accuracy: 0.8972\n",
      "Epoch 2/60\n",
      "154/154 [==============================] - 10s 66ms/step - loss: 0.0957 - accuracy: 0.9719\n",
      "Epoch 3/60\n",
      "154/154 [==============================] - 10s 67ms/step - loss: 0.0595 - accuracy: 0.9857\n",
      "Epoch 4/60\n",
      "154/154 [==============================] - 10s 66ms/step - loss: 0.0345 - accuracy: 0.9929\n",
      "Epoch 5/60\n",
      "154/154 [==============================] - 10s 66ms/step - loss: 0.0295 - accuracy: 0.9939\n",
      "Epoch 6/60\n",
      "154/154 [==============================] - 10s 67ms/step - loss: 0.0310 - accuracy: 0.9945\n",
      "Epoch 7/60\n",
      "154/154 [==============================] - 11s 69ms/step - loss: 0.0126 - accuracy: 0.9971\n",
      "Epoch 8/60\n",
      "154/154 [==============================] - 10s 67ms/step - loss: 0.0099 - accuracy: 0.9986\n",
      "Epoch 9/60\n",
      "154/154 [==============================] - 10s 68ms/step - loss: 0.0187 - accuracy: 0.9967\n",
      "Epoch 10/60\n",
      "154/154 [==============================] - 10s 66ms/step - loss: 0.0081 - accuracy: 0.9988\n",
      "Epoch 11/60\n",
      "154/154 [==============================] - 10s 66ms/step - loss: 0.0041 - accuracy: 0.9988\n",
      "Epoch 12/60\n",
      "154/154 [==============================] - 11s 70ms/step - loss: 0.0074 - accuracy: 0.9984\n",
      "Epoch 13/60\n",
      "154/154 [==============================] - 10s 67ms/step - loss: 0.0122 - accuracy: 0.9990\n",
      "Epoch 14/60\n",
      "154/154 [==============================] - 10s 66ms/step - loss: 0.0022 - accuracy: 0.9996\n",
      "Epoch 15/60\n",
      "154/154 [==============================] - 10s 66ms/step - loss: 6.2212e-04 - accuracy: 0.9998\n",
      "Epoch 16/60\n",
      "154/154 [==============================] - 10s 67ms/step - loss: 0.0088 - accuracy: 0.9992\n",
      "Epoch 17/60\n",
      "154/154 [==============================] - 10s 67ms/step - loss: 0.0068 - accuracy: 0.9988\n",
      "Epoch 18/60\n",
      "154/154 [==============================] - 10s 67ms/step - loss: 0.0159 - accuracy: 0.9992\n",
      "Epoch 19/60\n",
      "154/154 [==============================] - 11s 70ms/step - loss: 0.0108 - accuracy: 0.9982\n",
      "Epoch 20/60\n",
      "154/154 [==============================] - 10s 67ms/step - loss: 4.2701e-07 - accuracy: 1.0000\n",
      "Epoch 21/60\n",
      "154/154 [==============================] - 10s 66ms/step - loss: 1.8934e-09 - accuracy: 1.0000\n",
      "Epoch 22/60\n",
      "154/154 [==============================] - 10s 67ms/step - loss: 3.4712e-09 - accuracy: 1.0000\n",
      "Epoch 23/60\n",
      "154/154 [==============================] - 10s 66ms/step - loss: 8.9813e-10 - accuracy: 1.0000\n",
      "Epoch 24/60\n",
      "154/154 [==============================] - 10s 68ms/step - loss: 6.5173e-07 - accuracy: 1.0000\n",
      "Epoch 25/60\n",
      "154/154 [==============================] - 10s 67ms/step - loss: 0.0048 - accuracy: 0.9998\n",
      "Epoch 26/60\n",
      "154/154 [==============================] - 10s 67ms/step - loss: 0.0056 - accuracy: 0.9990\n",
      "Epoch 27/60\n",
      "154/154 [==============================] - 10s 66ms/step - loss: 0.0129 - accuracy: 0.9988\n",
      "Epoch 28/60\n",
      "154/154 [==============================] - 10s 67ms/step - loss: 7.9329e-04 - accuracy: 0.9996\n",
      "Epoch 29/60\n",
      "154/154 [==============================] - 10s 66ms/step - loss: 0.0052 - accuracy: 0.9996\n",
      "Epoch 30/60\n",
      "154/154 [==============================] - 11s 69ms/step - loss: 6.1943e-08 - accuracy: 1.0000\n",
      "Epoch 31/60\n",
      "154/154 [==============================] - 10s 67ms/step - loss: 0.0023 - accuracy: 0.9998\n",
      "Epoch 32/60\n",
      "154/154 [==============================] - 10s 66ms/step - loss: 0.0012 - accuracy: 0.9998\n",
      "Epoch 33/60\n",
      "154/154 [==============================] - 10s 68ms/step - loss: 2.4274e-10 - accuracy: 1.0000\n",
      "Epoch 34/60\n",
      "154/154 [==============================] - 10s 67ms/step - loss: 0.0027 - accuracy: 0.9996\n",
      "Epoch 35/60\n",
      "154/154 [==============================] - 10s 67ms/step - loss: 0.0023 - accuracy: 0.9996\n",
      "Epoch 36/60\n",
      "154/154 [==============================] - 11s 69ms/step - loss: 8.5209e-08 - accuracy: 1.0000\n",
      "Epoch 37/60\n",
      "154/154 [==============================] - 10s 67ms/step - loss: 7.8558e-07 - accuracy: 1.0000\n",
      "Epoch 38/60\n",
      "154/154 [==============================] - 10s 67ms/step - loss: 0.0014 - accuracy: 0.9996\n",
      "Epoch 39/60\n",
      "154/154 [==============================] - 10s 67ms/step - loss: 9.1963e-04 - accuracy: 0.9998\n",
      "Epoch 40/60\n",
      "154/154 [==============================] - 10s 67ms/step - loss: 6.8953e-08 - accuracy: 1.0000\n",
      "Epoch 41/60\n",
      "154/154 [==============================] - 10s 68ms/step - loss: 0.0065 - accuracy: 0.9994\n",
      "Epoch 42/60\n",
      "154/154 [==============================] - 10s 68ms/step - loss: 3.8838e-10 - accuracy: 1.0000\n",
      "Epoch 43/60\n",
      "154/154 [==============================] - 10s 67ms/step - loss: 2.4274e-11 - accuracy: 1.0000\n",
      "Epoch 44/60\n",
      "154/154 [==============================] - 10s 67ms/step - loss: 1.2137e-10 - accuracy: 1.0000\n",
      "Epoch 45/60\n",
      "154/154 [==============================] - 10s 66ms/step - loss: 0.0095 - accuracy: 0.9994\n",
      "Epoch 46/60\n",
      "154/154 [==============================] - 11s 69ms/step - loss: 7.2926e-07 - accuracy: 1.0000\n",
      "Epoch 47/60\n",
      "154/154 [==============================] - 10s 67ms/step - loss: 1.8496e-08 - accuracy: 1.0000\n",
      "Epoch 48/60\n",
      "154/154 [==============================] - 10s 66ms/step - loss: 8.4472e-09 - accuracy: 1.0000\n",
      "Epoch 49/60\n",
      "154/154 [==============================] - 11s 69ms/step - loss: 9.7096e-11 - accuracy: 1.0000\n",
      "Epoch 50/60\n",
      "154/154 [==============================] - 10s 67ms/step - loss: 7.5249e-10 - accuracy: 1.0000\n",
      "Epoch 51/60\n",
      "154/154 [==============================] - 10s 66ms/step - loss: 0.0000e+00 - accuracy: 1.0000\n",
      "Epoch 52/60\n",
      "154/154 [==============================] - 11s 68ms/step - loss: 0.0000e+00 - accuracy: 1.0000\n",
      "Epoch 53/60\n",
      "154/154 [==============================] - 11s 70ms/step - loss: 0.0000e+00 - accuracy: 1.0000\n",
      "Epoch 54/60\n",
      "154/154 [==============================] - 10s 67ms/step - loss: 0.0031 - accuracy: 0.9996\n",
      "Epoch 55/60\n",
      "154/154 [==============================] - 10s 67ms/step - loss: 5.1867e-04 - accuracy: 0.9998\n",
      "Epoch 56/60\n",
      "154/154 [==============================] - 11s 70ms/step - loss: 0.0000e+00 - accuracy: 1.0000\n",
      "Epoch 57/60\n",
      "154/154 [==============================] - 10s 67ms/step - loss: 0.0000e+00 - accuracy: 1.0000\n",
      "Epoch 58/60\n",
      "154/154 [==============================] - 10s 67ms/step - loss: 0.0000e+00 - accuracy: 1.0000\n",
      "Epoch 59/60\n",
      "154/154 [==============================] - 11s 72ms/step - loss: 0.0000e+00 - accuracy: 1.0000\n",
      "Epoch 60/60\n",
      "154/154 [==============================] - 10s 67ms/step - loss: 0.0069 - accuracy: 0.9998\n"
     ]
    },
    {
     "data": {
      "text/plain": [
       "<tensorflow.python.keras.callbacks.History at 0x7fa6badb94d0>"
      ]
     },
     "execution_count": 6,
     "metadata": {},
     "output_type": "execute_result"
    }
   ],
   "source": [
    "inputs = tf.keras.Input(shape=(224,224,3))\n",
    "#x = inputs\n",
    "x = mobilenet_model(inputs)\n",
    "input_ = tf.expand_dims(x,axis = 1)\n",
    "nb_chan = 512\n",
    "ratio = 16\n",
    "x3 = ConvLSTM2D(filters=512, kernel_size=(1,1),padding = \"same\")(input_) \n",
    "x3 = BatchNormalization(axis=3, momentum=0.0,epsilon=0.0001)(x3)\n",
    "x3 = Activation('relu')(x3)\n",
    "\n",
    "#x_add = Add()([x1,x3])\n",
    "y = tf.keras.layers.GlobalAveragePooling2D()(x3)\n",
    "y = tf.keras.layers.Dense(nb_chan // ratio, activation='relu')(y)\n",
    "y = tf.keras.layers.Dense(nb_chan, activation='sigmoid')(y)\n",
    "y_3 = tf.keras.layers.Multiply()([x3, y])\n",
    "\n",
    "ratio = 16\n",
    "#y = tf.keras.layers.GlobalAveragePooling2D()(y_3)\n",
    "#y = tf.keras.layers.Dense(nb_chan // ratio, activation='relu')(y)\n",
    "#y = tf.keras.layers.Dense(nb_chan, activation='sigmoid')(y)\n",
    "#y3 = tf.keras.layers.Multiply()([y_3, y])\n",
    "\n",
    "#x_add = Add()([y3,x2])\n",
    "flat = Flatten()(y_3)\n",
    "\n",
    "dense_1 = Dense(4096,activation = 'relu')(flat)\n",
    "dense_2 = Dense(4096,activation = 'relu')(dense_1)\n",
    "prediction = Dense(3,activation = 'softmax')(dense_2)\n",
    "mobilenet_pred = Model(inputs = inputs,outputs = prediction)\n",
    "mobilenet_pred.summary()\n",
    "mobilenet_pred.compile(optimizer = tf.keras.optimizers.RMSprop(learning_rate=0.0002), loss=tf.keras.losses.CategoricalCrossentropy(from_logits = False) , metrics=['accuracy'])\n",
    "\n",
    "mobilenet_pred.fit(train_data,train_labels,batch_size = 32,epochs = 60)"
   ]
  },
  {
   "cell_type": "code",
   "execution_count": 7,
   "metadata": {
    "execution": {
     "iopub.execute_input": "2020-11-23T06:22:40.856216Z",
     "iopub.status.busy": "2020-11-23T06:22:40.855421Z",
     "iopub.status.idle": "2020-11-23T06:23:03.372882Z",
     "shell.execute_reply": "2020-11-23T06:23:03.372333Z"
    },
    "papermill": {
     "duration": 26.039858,
     "end_time": "2020-11-23T06:23:03.373006",
     "exception": false,
     "start_time": "2020-11-23T06:22:37.333148",
     "status": "completed"
    },
    "tags": []
   },
   "outputs": [
    {
     "name": "stdout",
     "output_type": "stream",
     "text": [
      "Shape of testing data\n",
      "(1229, 224, 224, 3)\n",
      "Shape of testing data\n",
      "(1229, 3)\n",
      "^_^-testing data finished-^_^\n"
     ]
    }
   ],
   "source": [
    "test_features = []\n",
    "data = []\n",
    "labels = []\n",
    "for i in range(len(l_test)):\n",
    "  file_name,label = l_test[i]\n",
    "  img = cv2.imread(file_name)\n",
    "  try:\n",
    "    img = cv2.resize(img,(224,224),interpolation = cv2.INTER_CUBIC)\n",
    "    #fd,hog_img = hog(img,orientations=8,pixels_per_cell=(16,16),cells_per_block=(1,1),visualize=True,multichannel=True)\n",
    "    #feature = hog_img.astype('float16')/255.0   \n",
    "    img = img.astype('float32')/255.0\n",
    "    #test_features.append(feature)\n",
    "    data.append(img)\n",
    "    labels.append(label)\n",
    "  except:\n",
    "    print(file_name,i)  \n",
    "test_data = np.array(data)\n",
    "print(\"Shape of testing data\")\n",
    "print(test_data.shape)\n",
    "\n",
    "test_labels = np.array(labels)\n",
    "print(\"Shape of testing data\")\n",
    "print(test_labels.shape)    \n",
    "#data = data.reshape((data.shape[0]*data.shape[1],data.shape[2],data.shape[3],1))\n",
    "#discard_n = len(data)-len(data)//batch_size*batch_size;\n",
    "#data = np.delete(data,range(discard_n),axis = 0)\n",
    "print('^_^-testing data finished-^_^')"
   ]
  },
  {
   "cell_type": "code",
   "execution_count": 8,
   "metadata": {
    "_cell_guid": "79c7e3d0-c299-4dcb-8224-4455121ee9b0",
    "_uuid": "d629ff2d2480ee46fbb7e2d37f6b5fab8052498a",
    "execution": {
     "iopub.execute_input": "2020-11-23T06:23:09.989214Z",
     "iopub.status.busy": "2020-11-23T06:23:09.988073Z",
     "iopub.status.idle": "2020-11-23T06:23:13.074190Z",
     "shell.execute_reply": "2020-11-23T06:23:13.073462Z"
    },
    "papermill": {
     "duration": 6.386159,
     "end_time": "2020-11-23T06:23:13.074306",
     "exception": false,
     "start_time": "2020-11-23T06:23:06.688147",
     "status": "completed"
    },
    "tags": []
   },
   "outputs": [
    {
     "name": "stdout",
     "output_type": "stream",
     "text": [
      "39/39 [==============================] - 2s 45ms/step - loss: 0.7141 - accuracy: 0.9756\n"
     ]
    },
    {
     "data": {
      "text/plain": [
       "[0.7140573263168335, 0.9755899310112]"
      ]
     },
     "execution_count": 8,
     "metadata": {},
     "output_type": "execute_result"
    }
   ],
   "source": [
    "mobilenet_pred.evaluate(test_data,test_labels)"
   ]
  },
  {
   "cell_type": "code",
   "execution_count": 9,
   "metadata": {
    "execution": {
     "iopub.execute_input": "2020-11-23T06:23:20.455077Z",
     "iopub.status.busy": "2020-11-23T06:23:20.454234Z",
     "iopub.status.idle": "2020-11-23T06:23:20.457634Z",
     "shell.execute_reply": "2020-11-23T06:23:20.458117Z"
    },
    "papermill": {
     "duration": 4.039167,
     "end_time": "2020-11-23T06:23:20.458242",
     "exception": false,
     "start_time": "2020-11-23T06:23:16.419075",
     "status": "completed"
    },
    "tags": []
   },
   "outputs": [
    {
     "ename": "SyntaxError",
     "evalue": "invalid syntax (<ipython-input-9-386f7975c1d5>, line 1)",
     "output_type": "error",
     "traceback": [
      "\u001b[0;36m  File \u001b[0;32m\"<ipython-input-9-386f7975c1d5>\"\u001b[0;36m, line \u001b[0;32m1\u001b[0m\n\u001b[0;31m    97.88 normal mobilenet\u001b[0m\n\u001b[0m               ^\u001b[0m\n\u001b[0;31mSyntaxError\u001b[0m\u001b[0;31m:\u001b[0m invalid syntax\n"
     ]
    }
   ],
   "source": [
    "97.88 normal mobilenet\n",
    "98.12 mobilenet convlstm se 1 block"
   ]
  },
  {
   "cell_type": "code",
   "execution_count": 10,
   "metadata": {
    "execution": {
     "iopub.execute_input": "2020-11-23T06:23:27.412078Z",
     "iopub.status.busy": "2020-11-23T06:23:27.391652Z",
     "iopub.status.idle": "2020-11-23T06:23:29.271458Z",
     "shell.execute_reply": "2020-11-23T06:23:29.270389Z"
    },
    "papermill": {
     "duration": 5.160284,
     "end_time": "2020-11-23T06:23:29.271610",
     "exception": false,
     "start_time": "2020-11-23T06:23:24.111326",
     "status": "completed"
    },
    "tags": []
   },
   "outputs": [],
   "source": [
    "mobilenet_pred.save(\"mobilenet.h5\")"
   ]
  },
  {
   "cell_type": "code",
   "execution_count": 11,
   "metadata": {
    "execution": {
     "iopub.execute_input": "2020-11-23T06:23:36.482676Z",
     "iopub.status.busy": "2020-11-23T06:23:36.481539Z",
     "iopub.status.idle": "2020-11-23T06:23:36.485179Z",
     "shell.execute_reply": "2020-11-23T06:23:36.485738Z"
    },
    "papermill": {
     "duration": 3.701815,
     "end_time": "2020-11-23T06:23:36.485877",
     "exception": false,
     "start_time": "2020-11-23T06:23:32.784062",
     "status": "completed"
    },
    "tags": []
   },
   "outputs": [
    {
     "ename": "SyntaxError",
     "evalue": "invalid syntax (<ipython-input-11-ea372adbe0de>, line 1)",
     "output_type": "error",
     "traceback": [
      "\u001b[0;36m  File \u001b[0;32m\"<ipython-input-11-ea372adbe0de>\"\u001b[0;36m, line \u001b[0;32m1\u001b[0m\n\u001b[0;31m    98.37 normal mobilenet\u001b[0m\n\u001b[0m               ^\u001b[0m\n\u001b[0;31mSyntaxError\u001b[0m\u001b[0;31m:\u001b[0m invalid syntax\n"
     ]
    }
   ],
   "source": [
    "98.37 normal mobilenet\n",
    "97.88 normal + convlstm\n",
    "97.96"
   ]
  }
 ],
 "metadata": {
  "kernelspec": {
   "display_name": "Python 3",
   "language": "python",
   "name": "python3"
  },
  "language_info": {
   "codemirror_mode": {
    "name": "ipython",
    "version": 3
   },
   "file_extension": ".py",
   "mimetype": "text/x-python",
   "name": "python",
   "nbconvert_exporter": "python",
   "pygments_lexer": "ipython3",
   "version": "3.7.6"
  },
  "papermill": {
   "duration": 841.837315,
   "end_time": "2020-11-23T06:23:41.641544",
   "environment_variables": {},
   "exception": null,
   "input_path": "__notebook__.ipynb",
   "output_path": "__notebook__.ipynb",
   "parameters": {},
   "start_time": "2020-11-23T06:09:39.804229",
   "version": "2.1.0"
  }
 },
 "nbformat": 4,
 "nbformat_minor": 4
}

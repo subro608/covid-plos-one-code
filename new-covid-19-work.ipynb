{
 "cells": [
  {
   "cell_type": "code",
   "execution_count": 1,
   "metadata": {
    "execution": {
     "iopub.execute_input": "2020-11-21T16:00:00.427007Z",
     "iopub.status.busy": "2020-11-21T16:00:00.426188Z",
     "iopub.status.idle": "2020-11-21T16:00:09.139421Z",
     "shell.execute_reply": "2020-11-21T16:00:09.138144Z"
    },
    "papermill": {
     "duration": 8.744784,
     "end_time": "2020-11-21T16:00:09.139562",
     "exception": false,
     "start_time": "2020-11-21T16:00:00.394778",
     "status": "completed"
    },
    "tags": []
   },
   "outputs": [],
   "source": [
    "import os,glob\n",
    "import numpy as np\n",
    "import cv2\n",
    "import glob\n",
    "import pickle\n",
    "import tensorflow as tf\n",
    "import argparse\n",
    "import re\n",
    "import datetime\n",
    "from tensorflow.keras.layers import  Input,Conv2D,BatchNormalization,Activation,Subtract,LeakyReLU,Add,Average,Lambda,MaxPool2D,Dropout,UpSampling2D,Concatenate,Multiply,GlobalAveragePooling2D,Dense,ZeroPadding2D,AveragePooling2D\n",
    "from tensorflow.keras.layers import concatenate,Flatten,ConvLSTM2D,LayerNormalization,GlobalAveragePooling2D\n",
    "from tensorflow.keras.models import Model, load_model\n",
    "from tensorflow.keras.callbacks import CSVLogger, ModelCheckpoint, LearningRateScheduler\n",
    "from tensorflow.keras.optimizers import Adam\n",
    "from tensorflow.keras import Sequential\n",
    "import tensorflow.keras.backend as K\n",
    "from sklearn.svm import LinearSVC\n",
    "import matplotlib.pyplot as plt\n",
    "from numpy import loadtxt\n",
    "from xgboost import XGBClassifier\n",
    "from sklearn.model_selection import train_test_split\n",
    "from sklearn.metrics import accuracy_score\n",
    "from skimage.feature import hog,local_binary_pattern\n",
    "from skimage import data, exposure\n",
    "from tensorflow.keras.layers import Layer \n"
   ]
  },
  {
   "cell_type": "code",
   "execution_count": 2,
   "metadata": {
    "execution": {
     "iopub.execute_input": "2020-11-21T16:00:09.191518Z",
     "iopub.status.busy": "2020-11-21T16:00:09.190671Z",
     "iopub.status.idle": "2020-11-21T16:00:34.558883Z",
     "shell.execute_reply": "2020-11-21T16:00:34.559647Z"
    },
    "papermill": {
     "duration": 25.402767,
     "end_time": "2020-11-21T16:00:34.559841",
     "exception": false,
     "start_time": "2020-11-21T16:00:09.157074",
     "status": "completed"
    },
    "tags": []
   },
   "outputs": [
    {
     "name": "stdout",
     "output_type": "stream",
     "text": [
      "Cloning into 'covid-chestxray-dataset'...\r\n",
      "remote: Enumerating objects: 15, done.\u001b[K\r\n",
      "remote: Counting objects: 100% (15/15), done.\u001b[K\r\n",
      "remote: Compressing objects: 100% (10/10), done.\u001b[K\r\n",
      "remote: Total 3614 (delta 7), reused 11 (delta 5), pack-reused 3599\u001b[K\r\n",
      "Receiving objects: 100% (3614/3614), 633.00 MiB | 33.23 MiB/s, done.\r\n",
      "Resolving deltas: 100% (1430/1430), done.\r\n",
      "Checking out files: 100% (1173/1173), done.\r\n",
      "Number of covid-19 files\n",
      "924\n"
     ]
    }
   ],
   "source": [
    "\n",
    "!git clone https://github.com/ieee8023/covid-chestxray-dataset.git\n",
    "\n",
    "normal_dir = \"./covid-chestxray-dataset/images\"\n",
    "dir1 = os.path.join(normal_dir,\"*.png\")\n",
    "dir = os.path.join(normal_dir,\"*.jpg\")\n",
    "dir2 = os.path.join(normal_dir,\"*.jpeg\")\n",
    "covid_files = glob.glob(dir)\n",
    "covid_files2 = glob.glob(dir2)\n",
    "covid_files1 = glob.glob(dir1)\n",
    "covid_files.extend(covid_files2)\n",
    "covid_files.extend(covid_files1)\n",
    "print(\"Number of covid-19 files\")\n",
    "print(len(covid_files))\n"
   ]
  },
  {
   "cell_type": "code",
   "execution_count": 3,
   "metadata": {
    "_cell_guid": "b1076dfc-b9ad-4769-8c92-a6c4dae69d19",
    "_uuid": "8f2839f25d086af736a60e9eeb907d3b93b6e0e5",
    "execution": {
     "iopub.execute_input": "2020-11-21T16:00:34.684345Z",
     "iopub.status.busy": "2020-11-21T16:00:34.683501Z",
     "iopub.status.idle": "2020-11-21T16:02:20.749522Z",
     "shell.execute_reply": "2020-11-21T16:02:20.750310Z"
    },
    "papermill": {
     "duration": 106.139838,
     "end_time": "2020-11-21T16:02:20.750520",
     "exception": false,
     "start_time": "2020-11-21T16:00:34.610682",
     "status": "completed"
    },
    "tags": []
   },
   "outputs": [
    {
     "name": "stdout",
     "output_type": "stream",
     "text": [
      "Number of normal files\n",
      "1341\n",
      "Number of Pneumonia files\n",
      "3875\n",
      "4911 1229\n",
      "Shape of training data\n",
      "(4911, 224, 224, 3)\n",
      "Shape of training labels\n",
      "(4911, 3)\n",
      "^_^-training data finished-^_^\n"
     ]
    }
   ],
   "source": [
    "normal_dir = \"../input/chest-xray-pneumonia/chest_xray/train/NORMAL\"\n",
    "dir1 = os.path.join(normal_dir,\"*.png\")\n",
    "dir2 = os.path.join(normal_dir,\"*.jpeg\")\n",
    "dir = os.path.join(normal_dir,\"*.jpg\")\n",
    "normal_files = glob.glob(dir)\n",
    "normal_1 = glob.glob(dir1)\n",
    "normal_2 = glob.glob(dir2)\n",
    "normal_files.extend(normal_1)\n",
    "normal_files.extend(normal_2)\n",
    "print(\"Number of normal files\")\n",
    "print(len(normal_files))\n",
    "\n",
    "normal_dir = \"../input/chest-xray-pneumonia/chest_xray/train/PNEUMONIA\"\n",
    "dir1 = os.path.join(normal_dir,\"*.png\")\n",
    "dir2 = os.path.join(normal_dir,\"*.jpeg\")\n",
    "dir = os.path.join(normal_dir,\"*.jpg\")\n",
    "pneumonia_files = glob.glob(dir)\n",
    "pneumonia_1 = glob.glob(dir1)\n",
    "pneumonia_2 = glob.glob(dir2)\n",
    "pneumonia_files.extend(pneumonia_1)\n",
    "pneumonia_files.extend(pneumonia_2)\n",
    "\n",
    "train_dic = {}\n",
    "for f in covid_files[:739]:\n",
    "  train_dic[f] = [1,0,0]\n",
    "for f in normal_files[:1072]:\n",
    "  train_dic[f] = [0,1,0]\n",
    "for f in pneumonia_files[:3100]:\n",
    "  train_dic[f] = [0,0,1]\n",
    "print(\"Number of Pneumonia files\")\n",
    "print(len(pneumonia_files))\n",
    "\n",
    "test_dic = {}\n",
    "for f in covid_files[739:]:\n",
    "  test_dic[f] = [1,0,0]\n",
    "for f in normal_files[1072:]:\n",
    "  test_dic[f] = [0,1,0]\n",
    "for f in pneumonia_files[3100:]:\n",
    "  test_dic[f] = [0,0,1]\n",
    "\n",
    "import random\n",
    "l = list(train_dic.items())\n",
    "random.shuffle(l)\n",
    "l_test = list(test_dic.items())\n",
    "random.shuffle(l_test)\n",
    "print(len(l),len(l_test))\n",
    "\n",
    "\n",
    "train_features = []\n",
    "covid_dic_list = {}\n",
    "data = []\n",
    "data_112 = []\n",
    "data_56 = []\n",
    "data_256 = []\n",
    "labels = []\n",
    "for i in range(len(l)):\n",
    "  file_name,label = l[i]\n",
    "  img = cv2.imread(file_name)\n",
    "  try:\n",
    "    img = cv2.resize(img,(224,224),interpolation = cv2.INTER_CUBIC)\n",
    "    #img2 = cv2.resize(img,(256,256),interpolation = cv2.INTER_CUBIC)\n",
    "    #img3 = cv2.resize(img,(112,112),interpolation = cv2.INTER_CUBIC)\n",
    "    #img4 = cv2.resize(img,(56,56),interpolation = cv2.INTER_CUBIC)\n",
    "    \n",
    "    img = img.astype('float32')/255.0\n",
    "    #img2 = img2.astype('float16')/255.0\n",
    "    #img3 = img3.astype('float32')/255.0\n",
    "    #img4 = img4.astype('float16')/255.0\n",
    "    \n",
    "    #data_56.append(img4)\n",
    "    #data_112.append(img3)\n",
    "    #data_256.append(img)2\n",
    "    data.append(img)\n",
    "    labels.append(label)\n",
    "\n",
    "  except:\n",
    "    print(i,file_name)\n",
    "    print(\"Not possible\")  \n",
    "  \n",
    "       \n",
    "train_data = np.array(data)\n",
    "print(\"Shape of training data\")\n",
    "print(train_data.shape)\n",
    "\n",
    "\n",
    "#train_data_56 = np.array(data_56)\n",
    "#print(train_data_56.shape)\n",
    "#train_data_112 = np.array(data_112)\n",
    "#print(train_data_112.shape)\n",
    "#train_data_256 = np.array(data_256)\n",
    "#print(train_data_256.shape)\n",
    "\n",
    "\n",
    "train_labels = np.array(labels)\n",
    "print(\"Shape of training labels\")\n",
    "print(train_labels.shape)    \n",
    "\n",
    "print('^_^-training data finished-^_^')\n"
   ]
  },
  {
   "cell_type": "code",
   "execution_count": 4,
   "metadata": {
    "execution": {
     "iopub.execute_input": "2020-11-21T16:02:20.856652Z",
     "iopub.status.busy": "2020-11-21T16:02:20.856060Z",
     "iopub.status.idle": "2020-11-21T16:02:24.909803Z",
     "shell.execute_reply": "2020-11-21T16:02:24.908875Z"
    },
    "papermill": {
     "duration": 4.110876,
     "end_time": "2020-11-21T16:02:24.909926",
     "exception": false,
     "start_time": "2020-11-21T16:02:20.799050",
     "status": "completed"
    },
    "tags": []
   },
   "outputs": [
    {
     "name": "stdout",
     "output_type": "stream",
     "text": [
      "Downloading data from https://storage.googleapis.com/tensorflow/keras-applications/vgg19/vgg19_weights_tf_dim_ordering_tf_kernels_notop.h5\n",
      "80142336/80134624 [==============================] - 1s 0us/step\n"
     ]
    }
   ],
   "source": [
    "vgg_model = tf.keras.applications.VGG19(include_top=False,weights='imagenet',classes = 3)"
   ]
  },
  {
   "cell_type": "code",
   "execution_count": 5,
   "metadata": {
    "execution": {
     "iopub.execute_input": "2020-11-21T16:02:25.027627Z",
     "iopub.status.busy": "2020-11-21T16:02:25.025692Z",
     "iopub.status.idle": "2020-11-21T16:02:25.028286Z",
     "shell.execute_reply": "2020-11-21T16:02:25.028764Z"
    },
    "papermill": {
     "duration": 0.063327,
     "end_time": "2020-11-21T16:02:25.028891",
     "exception": false,
     "start_time": "2020-11-21T16:02:24.965564",
     "status": "completed"
    },
    "tags": []
   },
   "outputs": [],
   "source": [
    "vgg_model.trainable = False"
   ]
  },
  {
   "cell_type": "code",
   "execution_count": 6,
   "metadata": {
    "execution": {
     "iopub.execute_input": "2020-11-21T16:02:25.160040Z",
     "iopub.status.busy": "2020-11-21T16:02:25.158936Z",
     "iopub.status.idle": "2020-11-21T16:19:28.481589Z",
     "shell.execute_reply": "2020-11-21T16:19:28.480218Z"
    },
    "papermill": {
     "duration": 1023.396801,
     "end_time": "2020-11-21T16:19:28.481724",
     "exception": false,
     "start_time": "2020-11-21T16:02:25.084923",
     "status": "completed"
    },
    "tags": []
   },
   "outputs": [
    {
     "name": "stdout",
     "output_type": "stream",
     "text": [
      "Model: \"functional_1\"\n",
      "__________________________________________________________________________________________________\n",
      "Layer (type)                    Output Shape         Param #     Connected to                     \n",
      "==================================================================================================\n",
      "input_2 (InputLayer)            [(None, 224, 224, 3) 0                                            \n",
      "__________________________________________________________________________________________________\n",
      "vgg19 (Functional)              (None, None, None, 5 20024384    input_2[0][0]                    \n",
      "__________________________________________________________________________________________________\n",
      "tf_op_layer_ExpandDims (TensorF [(None, 1, 7, 7, 512 0           vgg19[0][0]                      \n",
      "__________________________________________________________________________________________________\n",
      "conv_lst_m2d (ConvLSTM2D)       (None, 7, 7, 512)    2099200     tf_op_layer_ExpandDims[0][0]     \n",
      "__________________________________________________________________________________________________\n",
      "batch_normalization (BatchNorma (None, 7, 7, 512)    2048        conv_lst_m2d[0][0]               \n",
      "__________________________________________________________________________________________________\n",
      "activation (Activation)         (None, 7, 7, 512)    0           batch_normalization[0][0]        \n",
      "__________________________________________________________________________________________________\n",
      "global_average_pooling2d (Globa (None, 512)          0           activation[0][0]                 \n",
      "__________________________________________________________________________________________________\n",
      "dense (Dense)                   (None, 32)           16416       global_average_pooling2d[0][0]   \n",
      "__________________________________________________________________________________________________\n",
      "dense_1 (Dense)                 (None, 512)          16896       dense[0][0]                      \n",
      "__________________________________________________________________________________________________\n",
      "multiply (Multiply)             (None, 7, 7, 512)    0           activation[0][0]                 \n",
      "                                                                 dense_1[0][0]                    \n",
      "__________________________________________________________________________________________________\n",
      "flatten (Flatten)               (None, 25088)        0           multiply[0][0]                   \n",
      "__________________________________________________________________________________________________\n",
      "dense_2 (Dense)                 (None, 4096)         102764544   flatten[0][0]                    \n",
      "__________________________________________________________________________________________________\n",
      "dense_3 (Dense)                 (None, 4096)         16781312    dense_2[0][0]                    \n",
      "__________________________________________________________________________________________________\n",
      "dense_4 (Dense)                 (None, 3)            12291       dense_3[0][0]                    \n",
      "==================================================================================================\n",
      "Total params: 141,717,091\n",
      "Trainable params: 121,691,683\n",
      "Non-trainable params: 20,025,408\n",
      "__________________________________________________________________________________________________\n",
      "Epoch 1/60\n",
      "154/154 [==============================] - 17s 111ms/step - loss: 0.6056 - accuracy: 0.8953\n",
      "Epoch 2/60\n",
      "154/154 [==============================] - 17s 110ms/step - loss: 0.1103 - accuracy: 0.9662\n",
      "Epoch 3/60\n",
      "154/154 [==============================] - 17s 109ms/step - loss: 0.0777 - accuracy: 0.9760\n",
      "Epoch 4/60\n",
      "154/154 [==============================] - 17s 109ms/step - loss: 0.0503 - accuracy: 0.9855\n",
      "Epoch 5/60\n",
      "154/154 [==============================] - 17s 110ms/step - loss: 0.0421 - accuracy: 0.9886\n",
      "Epoch 6/60\n",
      "154/154 [==============================] - 17s 109ms/step - loss: 0.0391 - accuracy: 0.9923\n",
      "Epoch 7/60\n",
      "154/154 [==============================] - 17s 109ms/step - loss: 0.0431 - accuracy: 0.9921\n",
      "Epoch 8/60\n",
      "154/154 [==============================] - 17s 108ms/step - loss: 0.0251 - accuracy: 0.9953\n",
      "Epoch 9/60\n",
      "154/154 [==============================] - 17s 109ms/step - loss: 0.0220 - accuracy: 0.9963\n",
      "Epoch 10/60\n",
      "154/154 [==============================] - 17s 109ms/step - loss: 0.0228 - accuracy: 0.9959\n",
      "Epoch 11/60\n",
      "154/154 [==============================] - 17s 108ms/step - loss: 0.0185 - accuracy: 0.9974\n",
      "Epoch 12/60\n",
      "154/154 [==============================] - 17s 109ms/step - loss: 0.0294 - accuracy: 0.9965\n",
      "Epoch 13/60\n",
      "154/154 [==============================] - 17s 108ms/step - loss: 0.0147 - accuracy: 0.9980\n",
      "Epoch 14/60\n",
      "154/154 [==============================] - 17s 109ms/step - loss: 0.0108 - accuracy: 0.9992\n",
      "Epoch 15/60\n",
      "154/154 [==============================] - 17s 108ms/step - loss: 0.0213 - accuracy: 0.9986\n",
      "Epoch 16/60\n",
      "154/154 [==============================] - 17s 110ms/step - loss: 0.0079 - accuracy: 0.9990\n",
      "Epoch 17/60\n",
      "154/154 [==============================] - 17s 107ms/step - loss: 0.0108 - accuracy: 0.9986\n",
      "Epoch 18/60\n",
      "154/154 [==============================] - 17s 109ms/step - loss: 0.0202 - accuracy: 0.9974\n",
      "Epoch 19/60\n",
      "154/154 [==============================] - 17s 109ms/step - loss: 0.0083 - accuracy: 0.9990\n",
      "Epoch 20/60\n",
      "154/154 [==============================] - 17s 109ms/step - loss: 0.0073 - accuracy: 0.9994\n",
      "Epoch 21/60\n",
      "154/154 [==============================] - 17s 109ms/step - loss: 0.0021 - accuracy: 0.9996\n",
      "Epoch 22/60\n",
      "154/154 [==============================] - 17s 109ms/step - loss: 0.0159 - accuracy: 0.9978\n",
      "Epoch 23/60\n",
      "154/154 [==============================] - 17s 110ms/step - loss: 0.0098 - accuracy: 0.9984\n",
      "Epoch 24/60\n",
      "154/154 [==============================] - 17s 109ms/step - loss: 0.0120 - accuracy: 0.9982\n",
      "Epoch 25/60\n",
      "154/154 [==============================] - 17s 108ms/step - loss: 0.0162 - accuracy: 0.9974\n",
      "Epoch 26/60\n",
      "154/154 [==============================] - 17s 109ms/step - loss: 0.0158 - accuracy: 0.9982\n",
      "Epoch 27/60\n",
      "154/154 [==============================] - 17s 110ms/step - loss: 0.0015 - accuracy: 0.9998\n",
      "Epoch 28/60\n",
      "154/154 [==============================] - 17s 109ms/step - loss: 0.0061 - accuracy: 0.9996\n",
      "Epoch 29/60\n",
      "154/154 [==============================] - 17s 109ms/step - loss: 4.4178e-09 - accuracy: 1.0000\n",
      "Epoch 30/60\n",
      "154/154 [==============================] - 17s 110ms/step - loss: 9.9523e-10 - accuracy: 1.0000\n",
      "Epoch 31/60\n",
      "154/154 [==============================] - 17s 109ms/step - loss: 1.1409e-09 - accuracy: 1.0000\n",
      "Epoch 32/60\n",
      "154/154 [==============================] - 17s 108ms/step - loss: 2.1847e-10 - accuracy: 1.0000\n",
      "Epoch 33/60\n",
      "154/154 [==============================] - 17s 109ms/step - loss: 3.1556e-10 - accuracy: 1.0000\n",
      "Epoch 34/60\n",
      "154/154 [==============================] - 17s 112ms/step - loss: 4.1266e-10 - accuracy: 1.0000\n",
      "Epoch 35/60\n",
      "154/154 [==============================] - 17s 109ms/step - loss: 1.2137e-10 - accuracy: 1.0000\n",
      "Epoch 36/60\n",
      "154/154 [==============================] - 17s 109ms/step - loss: 1.6992e-10 - accuracy: 1.0000\n",
      "Epoch 37/60\n",
      "154/154 [==============================] - 17s 111ms/step - loss: 7.2822e-11 - accuracy: 1.0000\n",
      "Epoch 38/60\n",
      "154/154 [==============================] - 17s 109ms/step - loss: 0.0000e+00 - accuracy: 1.0000\n",
      "Epoch 39/60\n",
      "154/154 [==============================] - 17s 108ms/step - loss: 7.2822e-11 - accuracy: 1.0000\n",
      "Epoch 40/60\n",
      "154/154 [==============================] - 17s 109ms/step - loss: 4.8548e-11 - accuracy: 1.0000\n",
      "Epoch 41/60\n",
      "154/154 [==============================] - 17s 110ms/step - loss: 1.4564e-10 - accuracy: 1.0000\n",
      "Epoch 42/60\n",
      "154/154 [==============================] - 17s 109ms/step - loss: 0.0000e+00 - accuracy: 1.0000\n",
      "Epoch 43/60\n",
      "154/154 [==============================] - 17s 108ms/step - loss: 4.8548e-11 - accuracy: 1.0000\n",
      "Epoch 44/60\n",
      "154/154 [==============================] - 17s 110ms/step - loss: 0.0000e+00 - accuracy: 1.0000\n",
      "Epoch 45/60\n",
      "154/154 [==============================] - 17s 109ms/step - loss: 2.4274e-11 - accuracy: 1.0000\n",
      "Epoch 46/60\n",
      "154/154 [==============================] - 17s 108ms/step - loss: 2.4274e-11 - accuracy: 1.0000\n",
      "Epoch 47/60\n",
      "154/154 [==============================] - 17s 107ms/step - loss: 0.0000e+00 - accuracy: 1.0000\n",
      "Epoch 48/60\n",
      "154/154 [==============================] - 17s 110ms/step - loss: 4.8548e-11 - accuracy: 1.0000\n",
      "Epoch 49/60\n",
      "154/154 [==============================] - 17s 108ms/step - loss: 0.0000e+00 - accuracy: 1.0000\n",
      "Epoch 50/60\n",
      "154/154 [==============================] - 17s 109ms/step - loss: 1.2137e-10 - accuracy: 1.0000\n",
      "Epoch 51/60\n",
      "154/154 [==============================] - 17s 108ms/step - loss: 4.8548e-11 - accuracy: 1.0000\n",
      "Epoch 52/60\n",
      "154/154 [==============================] - 17s 111ms/step - loss: 2.4274e-11 - accuracy: 1.0000\n",
      "Epoch 53/60\n",
      "154/154 [==============================] - 17s 107ms/step - loss: 4.8548e-11 - accuracy: 1.0000\n",
      "Epoch 54/60\n",
      "154/154 [==============================] - 17s 109ms/step - loss: 0.0000e+00 - accuracy: 1.0000\n",
      "Epoch 55/60\n",
      "154/154 [==============================] - 17s 109ms/step - loss: 0.0000e+00 - accuracy: 1.0000\n",
      "Epoch 56/60\n",
      "154/154 [==============================] - 17s 109ms/step - loss: 2.4274e-11 - accuracy: 1.0000\n",
      "Epoch 57/60\n",
      "154/154 [==============================] - 17s 108ms/step - loss: 0.0000e+00 - accuracy: 1.0000\n",
      "Epoch 58/60\n",
      "154/154 [==============================] - 17s 108ms/step - loss: 0.0000e+00 - accuracy: 1.0000\n",
      "Epoch 59/60\n",
      "154/154 [==============================] - 17s 110ms/step - loss: 0.0000e+00 - accuracy: 1.0000\n",
      "Epoch 60/60\n",
      "154/154 [==============================] - 17s 108ms/step - loss: 0.0000e+00 - accuracy: 1.0000\n"
     ]
    },
    {
     "data": {
      "text/plain": [
       "<tensorflow.python.keras.callbacks.History at 0x7fe11c10a1d0>"
      ]
     },
     "execution_count": 6,
     "metadata": {},
     "output_type": "execute_result"
    }
   ],
   "source": [
    "inputs = tf.keras.Input(shape=(224,224,3))\n",
    "#x = inputs\n",
    "x = vgg_model(inputs)\n",
    "input_ = tf.expand_dims(x,axis = 1)\n",
    "nb_chan = 512\n",
    "ratio = 16\n",
    "x3 = ConvLSTM2D(filters=512, kernel_size=(1,1),padding = \"same\")(input_) \n",
    "x3 = BatchNormalization(axis=3, momentum=0.0,epsilon=0.0001)(x3)\n",
    "x3 = Activation('relu')(x3)\n",
    "\n",
    "#x_add = Add()([x1,x3])\n",
    "y = tf.keras.layers.GlobalAveragePooling2D()(x3)\n",
    "y = tf.keras.layers.Dense(nb_chan // ratio, activation='relu')(y)\n",
    "y = tf.keras.layers.Dense(nb_chan, activation='sigmoid')(y)\n",
    "y_3 = tf.keras.layers.Multiply()([x3, y])\n",
    "\n",
    "ratio = 16\n",
    "#y = tf.keras.layers.GlobalAveragePooling2D()(y_3)\n",
    "#y = tf.keras.layers.Dense(nb_chan // ratio, activation='relu')(y)\n",
    "#y = tf.keras.layers.Dense(nb_chan, activation='sigmoid')(y)\n",
    "#y3 = tf.keras.layers.Multiply()([y_3, y])\n",
    "\n",
    "#x_add = Add()([y3,x2])\n",
    "flat = Flatten()(y_3)\n",
    "\n",
    "dense_1 = Dense(4096,activation = 'relu')(flat)\n",
    "dense_2 = Dense(4096,activation = 'relu')(dense_1)\n",
    "prediction = Dense(3,activation = 'softmax')(dense_2)\n",
    "vgg_pred = Model(inputs = inputs,outputs = prediction)\n",
    "vgg_pred.summary()\n",
    "vgg_pred.compile(optimizer = tf.keras.optimizers.RMSprop(learning_rate=0.0002), loss=tf.keras.losses.CategoricalCrossentropy(from_logits = False) , metrics=['accuracy'])\n",
    "\n",
    "vgg_pred.fit(train_data,train_labels,batch_size = 32,epochs = 60)"
   ]
  },
  {
   "cell_type": "code",
   "execution_count": null,
   "metadata": {
    "papermill": {
     "duration": 3.37409,
     "end_time": "2020-11-21T16:19:35.371122",
     "exception": false,
     "start_time": "2020-11-21T16:19:31.997032",
     "status": "completed"
    },
    "tags": []
   },
   "outputs": [],
   "source": []
  },
  {
   "cell_type": "markdown",
   "metadata": {
    "papermill": {
     "duration": 3.872517,
     "end_time": "2020-11-21T16:19:42.601400",
     "exception": false,
     "start_time": "2020-11-21T16:19:38.728883",
     "status": "completed"
    },
    "tags": []
   },
   "source": []
  },
  {
   "cell_type": "code",
   "execution_count": 7,
   "metadata": {
    "execution": {
     "iopub.execute_input": "2020-11-21T16:19:49.260239Z",
     "iopub.status.busy": "2020-11-21T16:19:49.259509Z",
     "iopub.status.idle": "2020-11-21T16:20:13.442672Z",
     "shell.execute_reply": "2020-11-21T16:20:13.442149Z"
    },
    "papermill": {
     "duration": 27.492498,
     "end_time": "2020-11-21T16:20:13.442791",
     "exception": false,
     "start_time": "2020-11-21T16:19:45.950293",
     "status": "completed"
    },
    "tags": []
   },
   "outputs": [
    {
     "name": "stdout",
     "output_type": "stream",
     "text": [
      "Shape of testing data\n",
      "(1229, 224, 224, 3)\n",
      "Shape of testing data\n",
      "(1229, 3)\n",
      "^_^-testing data finished-^_^\n"
     ]
    }
   ],
   "source": [
    "\n",
    "test_features = []\n",
    "data = []\n",
    "labels = []\n",
    "for i in range(len(l_test)):\n",
    "  file_name,label = l_test[i]\n",
    "  img = cv2.imread(file_name)\n",
    "  try:\n",
    "    img = cv2.resize(img,(224,224),interpolation = cv2.INTER_CUBIC)\n",
    "    #fd,hog_img = hog(img,orientations=8,pixels_per_cell=(16,16),cells_per_block=(1,1),visualize=True,multichannel=True)\n",
    "    #feature = hog_img.astype('float16')/255.0   \n",
    "    img = img.astype('float32')/255.0\n",
    "    #test_features.append(feature)\n",
    "    data.append(img)\n",
    "    labels.append(label)\n",
    "  except:\n",
    "    print(file_name,i)  \n",
    "test_data = np.array(data)\n",
    "print(\"Shape of testing data\")\n",
    "print(test_data.shape)\n",
    "\n",
    "test_labels = np.array(labels)\n",
    "print(\"Shape of testing data\")\n",
    "print(test_labels.shape)    \n",
    "#data = data.reshape((data.shape[0]*data.shape[1],data.shape[2],data.shape[3],1))\n",
    "#discard_n = len(data)-len(data)//batch_size*batch_size;\n",
    "#data = np.delete(data,range(discard_n),axis = 0)\n",
    "print('^_^-testing data finished-^_^')"
   ]
  },
  {
   "cell_type": "code",
   "execution_count": 8,
   "metadata": {
    "execution": {
     "iopub.execute_input": "2020-11-21T16:20:20.234912Z",
     "iopub.status.busy": "2020-11-21T16:20:20.234281Z",
     "iopub.status.idle": "2020-11-21T16:20:22.117588Z",
     "shell.execute_reply": "2020-11-21T16:20:22.116576Z"
    },
    "papermill": {
     "duration": 5.138407,
     "end_time": "2020-11-21T16:20:22.117732",
     "exception": false,
     "start_time": "2020-11-21T16:20:16.979325",
     "status": "completed"
    },
    "tags": []
   },
   "outputs": [],
   "source": [
    "vgg_pred = tf.keras.models.load_model(\"../input/new-covid-19-work/VGG_combined.h5\",compile = False)"
   ]
  },
  {
   "cell_type": "code",
   "execution_count": 9,
   "metadata": {
    "execution": {
     "iopub.execute_input": "2020-11-21T16:20:28.895172Z",
     "iopub.status.busy": "2020-11-21T16:20:28.894195Z",
     "iopub.status.idle": "2020-11-21T16:20:28.901037Z",
     "shell.execute_reply": "2020-11-21T16:20:28.899999Z"
    },
    "papermill": {
     "duration": 3.46184,
     "end_time": "2020-11-21T16:20:28.901144",
     "exception": false,
     "start_time": "2020-11-21T16:20:25.439304",
     "status": "completed"
    },
    "tags": []
   },
   "outputs": [],
   "source": [
    "vgg_pred.compile(optimizer = tf.keras.optimizers.RMSprop(learning_rate=0.0002), loss=tf.keras.losses.CategoricalCrossentropy(from_logits = False) , metrics=['accuracy'])"
   ]
  },
  {
   "cell_type": "code",
   "execution_count": 10,
   "metadata": {
    "execution": {
     "iopub.execute_input": "2020-11-21T16:20:35.407216Z",
     "iopub.status.busy": "2020-11-21T16:20:35.406319Z",
     "iopub.status.idle": "2020-11-21T16:20:40.104910Z",
     "shell.execute_reply": "2020-11-21T16:20:40.105364Z"
    },
    "papermill": {
     "duration": 7.985347,
     "end_time": "2020-11-21T16:20:40.105507",
     "exception": false,
     "start_time": "2020-11-21T16:20:32.120160",
     "status": "completed"
    },
    "tags": []
   },
   "outputs": [
    {
     "name": "stdout",
     "output_type": "stream",
     "text": [
      "39/39 [==============================] - 3s 87ms/step - loss: 0.2089 - accuracy: 0.9910\n"
     ]
    },
    {
     "data": {
      "text/plain": [
       "[0.20891804993152618, 0.9910496473312378]"
      ]
     },
     "execution_count": 10,
     "metadata": {},
     "output_type": "execute_result"
    }
   ],
   "source": [
    "vgg_pred.evaluate(test_data,test_labels)"
   ]
  },
  {
   "cell_type": "code",
   "execution_count": 11,
   "metadata": {
    "execution": {
     "iopub.execute_input": "2020-11-21T16:20:46.986670Z",
     "iopub.status.busy": "2020-11-21T16:20:46.985604Z",
     "iopub.status.idle": "2020-11-21T16:20:46.989055Z",
     "shell.execute_reply": "2020-11-21T16:20:46.989526Z"
    },
    "papermill": {
     "duration": 3.619798,
     "end_time": "2020-11-21T16:20:46.989666",
     "exception": false,
     "start_time": "2020-11-21T16:20:43.369868",
     "status": "completed"
    },
    "tags": []
   },
   "outputs": [
    {
     "ename": "SyntaxError",
     "evalue": "invalid syntax (<ipython-input-11-ed8a4af74cd6>, line 1)",
     "output_type": "error",
     "traceback": [
      "\u001b[0;36m  File \u001b[0;32m\"<ipython-input-11-ed8a4af74cd6>\"\u001b[0;36m, line \u001b[0;32m1\u001b[0m\n\u001b[0;31m    vgg normal 97.64\u001b[0m\n\u001b[0m             ^\u001b[0m\n\u001b[0;31mSyntaxError\u001b[0m\u001b[0;31m:\u001b[0m invalid syntax\n"
     ]
    }
   ],
   "source": [
    "vgg normal 97.64\n",
    "vgg convlstm se 1 98.12"
   ]
  },
  {
   "cell_type": "code",
   "execution_count": 12,
   "metadata": {
    "execution": {
     "iopub.execute_input": "2020-11-21T16:20:53.791711Z",
     "iopub.status.busy": "2020-11-21T16:20:53.780345Z",
     "iopub.status.idle": "2020-11-21T16:20:54.502995Z",
     "shell.execute_reply": "2020-11-21T16:20:54.502418Z"
    },
    "papermill": {
     "duration": 4.010938,
     "end_time": "2020-11-21T16:20:54.503118",
     "exception": false,
     "start_time": "2020-11-21T16:20:50.492180",
     "status": "completed"
    },
    "tags": []
   },
   "outputs": [],
   "source": [
    "vgg_pred.save(\"VGG_combined2.h5\")"
   ]
  },
  {
   "cell_type": "code",
   "execution_count": 13,
   "metadata": {
    "execution": {
     "iopub.execute_input": "2020-11-21T16:21:02.105033Z",
     "iopub.status.busy": "2020-11-21T16:21:02.103220Z",
     "iopub.status.idle": "2020-11-21T16:21:02.107538Z",
     "shell.execute_reply": "2020-11-21T16:21:02.106965Z"
    },
    "papermill": {
     "duration": 3.949083,
     "end_time": "2020-11-21T16:21:02.107660",
     "exception": false,
     "start_time": "2020-11-21T16:20:58.158577",
     "status": "completed"
    },
    "tags": []
   },
   "outputs": [
    {
     "ename": "SyntaxError",
     "evalue": "invalid syntax (<ipython-input-13-f80dab5ceafa>, line 1)",
     "output_type": "error",
     "traceback": [
      "\u001b[0;36m  File \u001b[0;32m\"<ipython-input-13-f80dab5ceafa>\"\u001b[0;36m, line \u001b[0;32m1\u001b[0m\n\u001b[0;31m    97.23 vgg19 normal\u001b[0m\n\u001b[0m              ^\u001b[0m\n\u001b[0;31mSyntaxError\u001b[0m\u001b[0;31m:\u001b[0m invalid syntax\n"
     ]
    }
   ],
   "source": [
    "97.23 vgg19 normal\n",
    "97.55 with convlstm SKN and SandE\n",
    "97.47 with conv skn and SandE"
   ]
  },
  {
   "cell_type": "code",
   "execution_count": 14,
   "metadata": {
    "execution": {
     "iopub.execute_input": "2020-11-21T16:21:09.160071Z",
     "iopub.status.busy": "2020-11-21T16:21:09.159177Z",
     "iopub.status.idle": "2020-11-21T16:21:09.162930Z",
     "shell.execute_reply": "2020-11-21T16:21:09.163425Z"
    },
    "papermill": {
     "duration": 3.436414,
     "end_time": "2020-11-21T16:21:09.163545",
     "exception": false,
     "start_time": "2020-11-21T16:21:05.727131",
     "status": "completed"
    },
    "tags": []
   },
   "outputs": [
    {
     "ename": "SyntaxError",
     "evalue": "invalid syntax (<ipython-input-14-22def269a124>, line 1)",
     "output_type": "error",
     "traceback": [
      "\u001b[0;36m  File \u001b[0;32m\"<ipython-input-14-22def269a124>\"\u001b[0;36m, line \u001b[0;32m1\u001b[0m\n\u001b[0;31m    Final 9/11/2020\u001b[0m\n\u001b[0m          ^\u001b[0m\n\u001b[0;31mSyntaxError\u001b[0m\u001b[0;31m:\u001b[0m invalid syntax\n"
     ]
    }
   ],
   "source": [
    "Final 9/11/2020\n",
    "97.72 normal VGG19\n",
    "98.29 conv skn and se\n"
   ]
  },
  {
   "cell_type": "code",
   "execution_count": 15,
   "metadata": {
    "execution": {
     "iopub.execute_input": "2020-11-21T16:21:16.195865Z",
     "iopub.status.busy": "2020-11-21T16:21:16.193776Z",
     "iopub.status.idle": "2020-11-21T16:21:16.200059Z",
     "shell.execute_reply": "2020-11-21T16:21:16.199162Z"
    },
    "papermill": {
     "duration": 3.351234,
     "end_time": "2020-11-21T16:21:16.200232",
     "exception": false,
     "start_time": "2020-11-21T16:21:12.848998",
     "status": "completed"
    },
    "tags": []
   },
   "outputs": [
    {
     "ename": "SyntaxError",
     "evalue": "invalid syntax (<ipython-input-15-9c809e7a8073>, line 1)",
     "output_type": "error",
     "traceback": [
      "\u001b[0;36m  File \u001b[0;32m\"<ipython-input-15-9c809e7a8073>\"\u001b[0;36m, line \u001b[0;32m1\u001b[0m\n\u001b[0;31m    97.31 normal vgg19\u001b[0m\n\u001b[0m               ^\u001b[0m\n\u001b[0;31mSyntaxError\u001b[0m\u001b[0;31m:\u001b[0m invalid syntax\n"
     ]
    }
   ],
   "source": [
    "97.31 normal vgg19\n",
    "98.12 convlstm skn "
   ]
  },
  {
   "cell_type": "code",
   "execution_count": 16,
   "metadata": {
    "execution": {
     "iopub.execute_input": "2020-11-21T16:21:23.374372Z",
     "iopub.status.busy": "2020-11-21T16:21:23.373480Z",
     "iopub.status.idle": "2020-11-21T16:21:23.376373Z",
     "shell.execute_reply": "2020-11-21T16:21:23.376884Z"
    },
    "papermill": {
     "duration": 3.565238,
     "end_time": "2020-11-21T16:21:23.377011",
     "exception": false,
     "start_time": "2020-11-21T16:21:19.811773",
     "status": "completed"
    },
    "tags": []
   },
   "outputs": [
    {
     "ename": "SyntaxError",
     "evalue": "invalid syntax (<ipython-input-16-d24f5a7ec9f9>, line 2)",
     "output_type": "error",
     "traceback": [
      "\u001b[0;36m  File \u001b[0;32m\"<ipython-input-16-d24f5a7ec9f9>\"\u001b[0;36m, line \u001b[0;32m2\u001b[0m\n\u001b[0;31m    97.396 vgg19 normal\u001b[0m\n\u001b[0m               ^\u001b[0m\n\u001b[0;31mSyntaxError\u001b[0m\u001b[0;31m:\u001b[0m invalid syntax\n"
     ]
    }
   ],
   "source": [
    "new\n",
    "97.396 vgg19 normal\n",
    "97.72/98.20  vgg19 convlstm skn\n",
    "convlstm with 3X3 97.8\n",
    "convlstm with 5X5 \n",
    "\n",
    "97.96/98.29 conv se skn\n",
    "\n",
    "98.04 1X1\n",
    "97.8 0.002 lr 100 epochs\n"
   ]
  },
  {
   "cell_type": "code",
   "execution_count": 17,
   "metadata": {
    "execution": {
     "iopub.execute_input": "2020-11-21T16:21:30.004551Z",
     "iopub.status.busy": "2020-11-21T16:21:30.003832Z",
     "iopub.status.idle": "2020-11-21T16:21:30.414673Z",
     "shell.execute_reply": "2020-11-21T16:21:30.414116Z"
    },
    "papermill": {
     "duration": 3.72308,
     "end_time": "2020-11-21T16:21:30.414799",
     "exception": false,
     "start_time": "2020-11-21T16:21:26.691719",
     "status": "completed"
    },
    "tags": []
   },
   "outputs": [
    {
     "ename": "NameError",
     "evalue": "name 'vgg1_pred' is not defined",
     "output_type": "error",
     "traceback": [
      "\u001b[0;31m---------------------------------------------------------------------------\u001b[0m",
      "\u001b[0;31mNameError\u001b[0m                                 Traceback (most recent call last)",
      "\u001b[0;32m<ipython-input-17-f6b6c785e434>\u001b[0m in \u001b[0;36m<module>\u001b[0;34m\u001b[0m\n\u001b[0;32m----> 1\u001b[0;31m \u001b[0mvgg1_pred\u001b[0m\u001b[0;34m.\u001b[0m\u001b[0msave\u001b[0m\u001b[0;34m(\u001b[0m\u001b[0;34m\"vgg19_convlstm3X3.h5\"\u001b[0m\u001b[0;34m)\u001b[0m\u001b[0;34m\u001b[0m\u001b[0;34m\u001b[0m\u001b[0m\n\u001b[0m",
      "\u001b[0;31mNameError\u001b[0m: name 'vgg1_pred' is not defined"
     ]
    }
   ],
   "source": [
    "vgg1_pred.save(\"vgg19_convlstm3X3.h5\")"
   ]
  },
  {
   "cell_type": "code",
   "execution_count": null,
   "metadata": {
    "papermill": {
     "duration": 3.284688,
     "end_time": "2020-11-21T16:21:37.290887",
     "exception": false,
     "start_time": "2020-11-21T16:21:34.006199",
     "status": "completed"
    },
    "tags": []
   },
   "outputs": [],
   "source": []
  },
  {
   "cell_type": "code",
   "execution_count": 18,
   "metadata": {
    "execution": {
     "iopub.execute_input": "2020-11-21T16:21:44.080873Z",
     "iopub.status.busy": "2020-11-21T16:21:44.080019Z",
     "iopub.status.idle": "2020-11-21T16:21:44.084181Z",
     "shell.execute_reply": "2020-11-21T16:21:44.083626Z"
    },
    "papermill": {
     "duration": 3.478007,
     "end_time": "2020-11-21T16:21:44.084296",
     "exception": false,
     "start_time": "2020-11-21T16:21:40.606289",
     "status": "completed"
    },
    "tags": []
   },
   "outputs": [
    {
     "ename": "SyntaxError",
     "evalue": "invalid syntax (<ipython-input-18-c7e538d0d306>, line 1)",
     "output_type": "error",
     "traceback": [
      "\u001b[0;36m  File \u001b[0;32m\"<ipython-input-18-c7e538d0d306>\"\u001b[0;36m, line \u001b[0;32m1\u001b[0m\n\u001b[0;31m    97.884 CNNLSTM2D\u001b[0m\n\u001b[0m                   ^\u001b[0m\n\u001b[0;31mSyntaxError\u001b[0m\u001b[0;31m:\u001b[0m invalid syntax\n"
     ]
    }
   ],
   "source": [
    "97.884 CNNLSTM2D\n",
    "97.396 Normal condition for VGG19"
   ]
  },
  {
   "cell_type": "code",
   "execution_count": 19,
   "metadata": {
    "execution": {
     "iopub.execute_input": "2020-11-21T16:21:51.007391Z",
     "iopub.status.busy": "2020-11-21T16:21:51.006594Z",
     "iopub.status.idle": "2020-11-21T16:21:51.010465Z",
     "shell.execute_reply": "2020-11-21T16:21:51.009988Z"
    },
    "papermill": {
     "duration": 3.675323,
     "end_time": "2020-11-21T16:21:51.010571",
     "exception": false,
     "start_time": "2020-11-21T16:21:47.335248",
     "status": "completed"
    },
    "tags": []
   },
   "outputs": [
    {
     "ename": "SyntaxError",
     "evalue": "invalid syntax (<ipython-input-19-beda5ca80fef>, line 1)",
     "output_type": "error",
     "traceback": [
      "\u001b[0;36m  File \u001b[0;32m\"<ipython-input-19-beda5ca80fef>\"\u001b[0;36m, line \u001b[0;32m1\u001b[0m\n\u001b[0;31m    98.454 CNNLSTM2D\u001b[0m\n\u001b[0m                   ^\u001b[0m\n\u001b[0;31mSyntaxError\u001b[0m\u001b[0;31m:\u001b[0m invalid syntax\n"
     ]
    }
   ],
   "source": [
    "98.454 CNNLSTM2D\n",
    "98.779 CNNLSTM2D dialtion rate 2\n",
    "98.29  CNNLSTM2D dialtion rate = 2 and go_backwards = True\n",
    "97.965 Normal Condition for densenet121"
   ]
  },
  {
   "cell_type": "code",
   "execution_count": 20,
   "metadata": {
    "execution": {
     "iopub.execute_input": "2020-11-21T16:21:58.130082Z",
     "iopub.status.busy": "2020-11-21T16:21:58.129215Z",
     "iopub.status.idle": "2020-11-21T16:21:58.133340Z",
     "shell.execute_reply": "2020-11-21T16:21:58.132850Z"
    },
    "papermill": {
     "duration": 3.647757,
     "end_time": "2020-11-21T16:21:58.133446",
     "exception": false,
     "start_time": "2020-11-21T16:21:54.485689",
     "status": "completed"
    },
    "tags": []
   },
   "outputs": [
    {
     "ename": "SyntaxError",
     "evalue": "invalid syntax (<ipython-input-20-7b2aac4c0a38>, line 1)",
     "output_type": "error",
     "traceback": [
      "\u001b[0;36m  File \u001b[0;32m\"<ipython-input-20-7b2aac4c0a38>\"\u001b[0;36m, line \u001b[0;32m1\u001b[0m\n\u001b[0;31m    98.78 densenet\u001b[0m\n\u001b[0m                 ^\u001b[0m\n\u001b[0;31mSyntaxError\u001b[0m\u001b[0;31m:\u001b[0m invalid syntax\n"
     ]
    }
   ],
   "source": [
    "\n",
    "98.78 densenet "
   ]
  },
  {
   "cell_type": "code",
   "execution_count": 21,
   "metadata": {
    "execution": {
     "iopub.execute_input": "2020-11-21T16:22:05.304404Z",
     "iopub.status.busy": "2020-11-21T16:22:05.303427Z",
     "iopub.status.idle": "2020-11-21T16:22:05.307025Z",
     "shell.execute_reply": "2020-11-21T16:22:05.305182Z"
    },
    "papermill": {
     "duration": 3.661896,
     "end_time": "2020-11-21T16:22:05.307200",
     "exception": false,
     "start_time": "2020-11-21T16:22:01.645304",
     "status": "completed"
    },
    "tags": []
   },
   "outputs": [
    {
     "ename": "SyntaxError",
     "evalue": "invalid syntax (<ipython-input-21-e2f634121cf5>, line 1)",
     "output_type": "error",
     "traceback": [
      "\u001b[0;36m  File \u001b[0;32m\"<ipython-input-21-e2f634121cf5>\"\u001b[0;36m, line \u001b[0;32m1\u001b[0m\n\u001b[0;31m    96.41 112 X 112 Densenet121 0.3347\u001b[0m\n\u001b[0m            ^\u001b[0m\n\u001b[0;31mSyntaxError\u001b[0m\u001b[0;31m:\u001b[0m invalid syntax\n"
     ]
    }
   ],
   "source": [
    "96.41 112 X 112 Densenet121 0.3347\n",
    "93.08 56 X 56    0.3231\n",
    "98.53 256 X 256 0.3421\n",
    "97.64 224 X 224"
   ]
  }
 ],
 "metadata": {
  "kernelspec": {
   "display_name": "Python 3",
   "language": "python",
   "name": "python3"
  },
  "language_info": {
   "codemirror_mode": {
    "name": "ipython",
    "version": 3
   },
   "file_extension": ".py",
   "mimetype": "text/x-python",
   "name": "python",
   "nbconvert_exporter": "python",
   "pygments_lexer": "ipython3",
   "version": "3.7.6"
  },
  "papermill": {
   "duration": 1334.064095,
   "end_time": "2020-11-21T16:22:10.302902",
   "environment_variables": {},
   "exception": null,
   "input_path": "__notebook__.ipynb",
   "output_path": "__notebook__.ipynb",
   "parameters": {},
   "start_time": "2020-11-21T15:59:56.238807",
   "version": "2.1.0"
  }
 },
 "nbformat": 4,
 "nbformat_minor": 4
}

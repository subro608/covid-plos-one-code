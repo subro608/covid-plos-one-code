{
 "cells": [
  {
   "cell_type": "code",
   "execution_count": 1,
   "metadata": {
    "_cell_guid": "b1076dfc-b9ad-4769-8c92-a6c4dae69d19",
    "_uuid": "8f2839f25d086af736a60e9eeb907d3b93b6e0e5",
    "execution": {
     "iopub.execute_input": "2020-11-19T18:53:22.933705Z",
     "iopub.status.busy": "2020-11-19T18:53:22.932934Z",
     "iopub.status.idle": "2020-11-19T18:53:33.334158Z",
     "shell.execute_reply": "2020-11-19T18:53:33.333508Z"
    },
    "papermill": {
     "duration": 10.421597,
     "end_time": "2020-11-19T18:53:33.334288",
     "exception": false,
     "start_time": "2020-11-19T18:53:22.912691",
     "status": "completed"
    },
    "tags": []
   },
   "outputs": [],
   "source": [
    "import os,glob\n",
    "import numpy as np\n",
    "import cv2\n",
    "import glob\n",
    "import pickle\n",
    "import tensorflow as tf\n",
    "import argparse\n",
    "import re\n",
    "import datetime\n",
    "from tensorflow.keras.layers import  Input,Conv2D,BatchNormalization,Activation,Subtract,LeakyReLU,Add,Average,Lambda,MaxPool2D,Dropout,UpSampling2D,Concatenate,Multiply,GlobalAveragePooling2D,Dense,ZeroPadding2D,AveragePooling2D\n",
    "from tensorflow.keras.layers import concatenate,Flatten,ConvLSTM2D,LayerNormalization,GlobalAveragePooling2D\n",
    "from tensorflow.keras.models import Model, load_model\n",
    "from tensorflow.keras.callbacks import CSVLogger, ModelCheckpoint, LearningRateScheduler\n",
    "from tensorflow.keras.optimizers import Adam\n",
    "from tensorflow.keras import Sequential\n",
    "import tensorflow.keras.backend as K\n",
    "from sklearn.svm import LinearSVC\n",
    "import matplotlib.pyplot as plt\n",
    "from numpy import loadtxt\n",
    "from xgboost import XGBClassifier\n",
    "from sklearn.model_selection import train_test_split\n",
    "from sklearn.metrics import accuracy_score\n",
    "from skimage.feature import hog,local_binary_pattern\n",
    "from skimage import data, exposure\n",
    "from tensorflow.keras.layers import Layer "
   ]
  },
  {
   "cell_type": "code",
   "execution_count": 2,
   "metadata": {
    "_cell_guid": "79c7e3d0-c299-4dcb-8224-4455121ee9b0",
    "_uuid": "d629ff2d2480ee46fbb7e2d37f6b5fab8052498a",
    "execution": {
     "iopub.execute_input": "2020-11-19T18:53:33.363095Z",
     "iopub.status.busy": "2020-11-19T18:53:33.358759Z",
     "iopub.status.idle": "2020-11-19T18:54:01.258050Z",
     "shell.execute_reply": "2020-11-19T18:54:01.258887Z"
    },
    "papermill": {
     "duration": 27.916034,
     "end_time": "2020-11-19T18:54:01.259283",
     "exception": false,
     "start_time": "2020-11-19T18:53:33.343249",
     "status": "completed"
    },
    "tags": []
   },
   "outputs": [
    {
     "name": "stdout",
     "output_type": "stream",
     "text": [
      "Cloning into 'covid-chestxray-dataset'...\r\n",
      "remote: Enumerating objects: 15, done.\u001b[K\r\n",
      "remote: Counting objects: 100% (15/15), done.\u001b[K\r\n",
      "remote: Compressing objects: 100% (10/10), done.\u001b[K\r\n",
      "remote: Total 3614 (delta 7), reused 11 (delta 5), pack-reused 3599\u001b[K\r\n",
      "Receiving objects: 100% (3614/3614), 633.00 MiB | 30.52 MiB/s, done.\r\n",
      "Resolving deltas: 100% (1430/1430), done.\r\n",
      "Checking out files: 100% (1173/1173), done.\r\n",
      "Number of covid-19 files\n",
      "924\n"
     ]
    }
   ],
   "source": [
    "!git clone https://github.com/ieee8023/covid-chestxray-dataset.git\n",
    "\n",
    "normal_dir = \"./covid-chestxray-dataset/images\"\n",
    "dir1 = os.path.join(normal_dir,\"*.png\")\n",
    "dir = os.path.join(normal_dir,\"*.jpg\")\n",
    "dir2 = os.path.join(normal_dir,\"*.jpeg\")\n",
    "covid_files = glob.glob(dir)\n",
    "covid_files2 = glob.glob(dir2)\n",
    "covid_files1 = glob.glob(dir1)\n",
    "covid_files.extend(covid_files2)\n",
    "covid_files.extend(covid_files1)\n",
    "print(\"Number of covid-19 files\")\n",
    "print(len(covid_files))\n"
   ]
  },
  {
   "cell_type": "code",
   "execution_count": 3,
   "metadata": {
    "execution": {
     "iopub.execute_input": "2020-11-19T18:54:01.405807Z",
     "iopub.status.busy": "2020-11-19T18:54:01.404877Z",
     "iopub.status.idle": "2020-11-19T18:55:36.827039Z",
     "shell.execute_reply": "2020-11-19T18:55:36.827890Z"
    },
    "papermill": {
     "duration": 95.500669,
     "end_time": "2020-11-19T18:55:36.828173",
     "exception": false,
     "start_time": "2020-11-19T18:54:01.327504",
     "status": "completed"
    },
    "tags": []
   },
   "outputs": [
    {
     "name": "stdout",
     "output_type": "stream",
     "text": [
      "Number of normal files\n",
      "1341\n",
      "Number of Pneumonia files\n",
      "3875\n",
      "4911 1229\n",
      "Shape of training data\n",
      "(4911, 224, 224, 3)\n",
      "Shape of training labels\n",
      "(4911, 3)\n",
      "^_^-training data finished-^_^\n"
     ]
    }
   ],
   "source": [
    "normal_dir = \"../input/chest-xray-pneumonia/chest_xray/train/NORMAL\"\n",
    "dir1 = os.path.join(normal_dir,\"*.png\")\n",
    "dir2 = os.path.join(normal_dir,\"*.jpeg\")\n",
    "dir = os.path.join(normal_dir,\"*.jpg\")\n",
    "normal_files = glob.glob(dir)\n",
    "normal_1 = glob.glob(dir1)\n",
    "normal_2 = glob.glob(dir2)\n",
    "normal_files.extend(normal_1)\n",
    "normal_files.extend(normal_2)\n",
    "print(\"Number of normal files\")\n",
    "print(len(normal_files))\n",
    "\n",
    "normal_dir = \"../input/chest-xray-pneumonia/chest_xray/train/PNEUMONIA\"\n",
    "dir1 = os.path.join(normal_dir,\"*.png\")\n",
    "dir2 = os.path.join(normal_dir,\"*.jpeg\")\n",
    "dir = os.path.join(normal_dir,\"*.jpg\")\n",
    "pneumonia_files = glob.glob(dir)\n",
    "pneumonia_1 = glob.glob(dir1)\n",
    "pneumonia_2 = glob.glob(dir2)\n",
    "pneumonia_files.extend(pneumonia_1)\n",
    "pneumonia_files.extend(pneumonia_2)\n",
    "train_dic = {}\n",
    "for f in covid_files[:739]:\n",
    "  train_dic[f] = [1,0,0]\n",
    "for f in normal_files[:1072]:\n",
    "  train_dic[f] = [0,1,0]\n",
    "for f in pneumonia_files[:3100]:\n",
    "  train_dic[f] = [0,0,1]\n",
    "print(\"Number of Pneumonia files\")\n",
    "print(len(pneumonia_files))\n",
    "\n",
    "test_dic = {}\n",
    "for f in covid_files[739:]:\n",
    "  test_dic[f] = [1,0,0]\n",
    "for f in normal_files[1072:]:\n",
    "  test_dic[f] = [0,1,0]\n",
    "for f in pneumonia_files[3100:]:\n",
    "  test_dic[f] = [0,0,1]\n",
    "\n",
    "import random\n",
    "l = list(train_dic.items())\n",
    "random.shuffle(l)\n",
    "l_test = list(test_dic.items())\n",
    "random.shuffle(l_test)\n",
    "print(len(l),len(l_test))\n",
    "\n",
    "\n",
    "train_features = []\n",
    "covid_dic_list = {}\n",
    "data = []\n",
    "data_112 = []\n",
    "data_56 = []\n",
    "data_256 = []\n",
    "labels = []\n",
    "for i in range(len(l)):\n",
    "  file_name,label = l[i]\n",
    "  img = cv2.imread(file_name)\n",
    "  try:\n",
    "    img = cv2.resize(img,(224,224),interpolation = cv2.INTER_CUBIC)\n",
    "    #img2 = cv2.resize(img,(256,256),interpolation = cv2.INTER_CUBIC)\n",
    "    #img3 = cv2.resize(img,(112,112),interpolation = cv2.INTER_CUBIC)\n",
    "    #img4 = cv2.resize(img,(56,56),interpolation = cv2.INTER_CUBIC)\n",
    "    \n",
    "    img = img.astype('float32')/255.0\n",
    "    #img2 = img2.astype('float16')/255.0\n",
    "    #img3 = img3.astype('float32')/255.0\n",
    "    #img4 = img4.astype('float16')/255.0\n",
    "    \n",
    "    #data_56.append(img4)\n",
    "    #data_112.append(img3)\n",
    "    #data_256.append(img)2\n",
    "    data.append(img)\n",
    "    labels.append(label)\n",
    "\n",
    "  except:\n",
    "    print(i,file_name)\n",
    "    print(\"Not possible\")  \n",
    "       \n",
    "train_data = np.array(data)\n",
    "print(\"Shape of training data\")\n",
    "print(train_data.shape)\n",
    "\n",
    "\n",
    "#train_data_56 = np.array(data_56)\n",
    "#print(train_data_56.shape)\n",
    "#train_data_112 = np.array(data_112)\n",
    "#print(train_data_112.shape)\n",
    "#train_data_256 = np.array(data_256)\n",
    "#print(train_data_256.shape)\n",
    "\n",
    "\n",
    "train_labels = np.array(labels)\n",
    "print(\"Shape of training labels\")\n",
    "print(train_labels.shape)    \n",
    "\n",
    "print('^_^-training data finished-^_^')\n"
   ]
  },
  {
   "cell_type": "code",
   "execution_count": 4,
   "metadata": {
    "execution": {
     "iopub.execute_input": "2020-11-19T18:55:36.918473Z",
     "iopub.status.busy": "2020-11-19T18:55:36.917881Z",
     "iopub.status.idle": "2020-11-19T18:55:45.700939Z",
     "shell.execute_reply": "2020-11-19T18:55:45.699890Z"
    },
    "papermill": {
     "duration": 8.831823,
     "end_time": "2020-11-19T18:55:45.701093",
     "exception": false,
     "start_time": "2020-11-19T18:55:36.869270",
     "status": "completed"
    },
    "tags": []
   },
   "outputs": [
    {
     "name": "stdout",
     "output_type": "stream",
     "text": [
      "Downloading data from https://storage.googleapis.com/tensorflow/keras-applications/inception_v3/inception_v3_weights_tf_dim_ordering_tf_kernels_notop.h5\n",
      "87916544/87910968 [==============================] - 1s 0us/step\n"
     ]
    }
   ],
   "source": [
    "inception_model = tf.keras.applications.InceptionV3(include_top=False,weights='imagenet',classes = 3)"
   ]
  },
  {
   "cell_type": "code",
   "execution_count": 5,
   "metadata": {
    "execution": {
     "iopub.execute_input": "2020-11-19T18:55:45.811596Z",
     "iopub.status.busy": "2020-11-19T18:55:45.807410Z",
     "iopub.status.idle": "2020-11-19T18:55:45.814427Z",
     "shell.execute_reply": "2020-11-19T18:55:45.813873Z"
    },
    "papermill": {
     "duration": 0.06628,
     "end_time": "2020-11-19T18:55:45.814533",
     "exception": false,
     "start_time": "2020-11-19T18:55:45.748253",
     "status": "completed"
    },
    "tags": []
   },
   "outputs": [],
   "source": [
    "inception_model.trainable = False"
   ]
  },
  {
   "cell_type": "code",
   "execution_count": 6,
   "metadata": {
    "execution": {
     "iopub.execute_input": "2020-11-19T18:55:45.923660Z",
     "iopub.status.busy": "2020-11-19T18:55:45.918104Z",
     "iopub.status.idle": "2020-11-19T19:07:55.427495Z",
     "shell.execute_reply": "2020-11-19T19:07:55.426493Z"
    },
    "papermill": {
     "duration": 729.567417,
     "end_time": "2020-11-19T19:07:55.427613",
     "exception": false,
     "start_time": "2020-11-19T18:55:45.860196",
     "status": "completed"
    },
    "tags": []
   },
   "outputs": [
    {
     "name": "stdout",
     "output_type": "stream",
     "text": [
      "Model: \"functional_1\"\n",
      "__________________________________________________________________________________________________\n",
      "Layer (type)                    Output Shape         Param #     Connected to                     \n",
      "==================================================================================================\n",
      "input_2 (InputLayer)            [(None, 224, 224, 3) 0                                            \n",
      "__________________________________________________________________________________________________\n",
      "inception_v3 (Functional)       (None, None, None, 2 21802784    input_2[0][0]                    \n",
      "__________________________________________________________________________________________________\n",
      "tf_op_layer_ExpandDims (TensorF [(None, 1, 5, 5, 204 0           inception_v3[0][0]               \n",
      "__________________________________________________________________________________________________\n",
      "conv_lst_m2d (ConvLSTM2D)       (None, 5, 5, 512)    5244928     tf_op_layer_ExpandDims[0][0]     \n",
      "__________________________________________________________________________________________________\n",
      "batch_normalization_94 (BatchNo (None, 5, 5, 512)    2048        conv_lst_m2d[0][0]               \n",
      "__________________________________________________________________________________________________\n",
      "activation_94 (Activation)      (None, 5, 5, 512)    0           batch_normalization_94[0][0]     \n",
      "__________________________________________________________________________________________________\n",
      "global_average_pooling2d (Globa (None, 512)          0           activation_94[0][0]              \n",
      "__________________________________________________________________________________________________\n",
      "dense (Dense)                   (None, 32)           16416       global_average_pooling2d[0][0]   \n",
      "__________________________________________________________________________________________________\n",
      "dense_1 (Dense)                 (None, 512)          16896       dense[0][0]                      \n",
      "__________________________________________________________________________________________________\n",
      "multiply (Multiply)             (None, 5, 5, 512)    0           activation_94[0][0]              \n",
      "                                                                 dense_1[0][0]                    \n",
      "__________________________________________________________________________________________________\n",
      "global_average_pooling2d_1 (Glo (None, 512)          0           multiply[0][0]                   \n",
      "__________________________________________________________________________________________________\n",
      "dense_2 (Dense)                 (None, 32)           16416       global_average_pooling2d_1[0][0] \n",
      "__________________________________________________________________________________________________\n",
      "dense_3 (Dense)                 (None, 512)          16896       dense_2[0][0]                    \n",
      "__________________________________________________________________________________________________\n",
      "multiply_1 (Multiply)           (None, 5, 5, 512)    0           multiply[0][0]                   \n",
      "                                                                 dense_3[0][0]                    \n",
      "__________________________________________________________________________________________________\n",
      "flatten (Flatten)               (None, 12800)        0           multiply_1[0][0]                 \n",
      "__________________________________________________________________________________________________\n",
      "dense_4 (Dense)                 (None, 4096)         52432896    flatten[0][0]                    \n",
      "__________________________________________________________________________________________________\n",
      "dense_5 (Dense)                 (None, 4096)         16781312    dense_4[0][0]                    \n",
      "__________________________________________________________________________________________________\n",
      "dense_6 (Dense)                 (None, 3)            12291       dense_5[0][0]                    \n",
      "==================================================================================================\n",
      "Total params: 96,342,883\n",
      "Trainable params: 74,539,075\n",
      "Non-trainable params: 21,803,808\n",
      "__________________________________________________________________________________________________\n",
      "Epoch 1/60\n",
      "154/154 [==============================] - 12s 78ms/step - loss: 0.3705 - accuracy: 0.8980\n",
      "Epoch 2/60\n",
      "154/154 [==============================] - 12s 76ms/step - loss: 0.1014 - accuracy: 0.9627\n",
      "Epoch 3/60\n",
      "154/154 [==============================] - 12s 76ms/step - loss: 0.0655 - accuracy: 0.9829\n",
      "Epoch 4/60\n",
      "154/154 [==============================] - 12s 80ms/step - loss: 0.0574 - accuracy: 0.9868\n",
      "Epoch 5/60\n",
      "154/154 [==============================] - 12s 76ms/step - loss: 0.0433 - accuracy: 0.9900\n",
      "Epoch 6/60\n",
      "154/154 [==============================] - 12s 76ms/step - loss: 0.0234 - accuracy: 0.9943\n",
      "Epoch 7/60\n",
      "154/154 [==============================] - 12s 77ms/step - loss: 0.0303 - accuracy: 0.9947\n",
      "Epoch 8/60\n",
      "154/154 [==============================] - 12s 75ms/step - loss: 0.0199 - accuracy: 0.9965\n",
      "Epoch 9/60\n",
      "154/154 [==============================] - 12s 79ms/step - loss: 0.0180 - accuracy: 0.9978\n",
      "Epoch 10/60\n",
      "154/154 [==============================] - 12s 77ms/step - loss: 0.0167 - accuracy: 0.9974\n",
      "Epoch 11/60\n",
      "154/154 [==============================] - 12s 76ms/step - loss: 0.0086 - accuracy: 0.9986\n",
      "Epoch 12/60\n",
      "154/154 [==============================] - 12s 77ms/step - loss: 0.0097 - accuracy: 0.9982\n",
      "Epoch 13/60\n",
      "154/154 [==============================] - 12s 76ms/step - loss: 0.0167 - accuracy: 0.9971\n",
      "Epoch 14/60\n",
      "154/154 [==============================] - 12s 77ms/step - loss: 0.0089 - accuracy: 0.9986\n",
      "Epoch 15/60\n",
      "154/154 [==============================] - 12s 79ms/step - loss: 0.0177 - accuracy: 0.9971\n",
      "Epoch 16/60\n",
      "154/154 [==============================] - 12s 76ms/step - loss: 0.0028 - accuracy: 0.9994\n",
      "Epoch 17/60\n",
      "154/154 [==============================] - 12s 79ms/step - loss: 0.0108 - accuracy: 0.9982\n",
      "Epoch 18/60\n",
      "154/154 [==============================] - 12s 76ms/step - loss: 0.0120 - accuracy: 0.9980\n",
      "Epoch 19/60\n",
      "154/154 [==============================] - 12s 78ms/step - loss: 0.0164 - accuracy: 0.9982\n",
      "Epoch 20/60\n",
      "154/154 [==============================] - 12s 80ms/step - loss: 0.0054 - accuracy: 0.9988\n",
      "Epoch 21/60\n",
      "154/154 [==============================] - 12s 75ms/step - loss: 3.4007e-08 - accuracy: 1.0000\n",
      "Epoch 22/60\n",
      "154/154 [==============================] - 12s 76ms/step - loss: 0.0052 - accuracy: 0.9990\n",
      "Epoch 23/60\n",
      "154/154 [==============================] - 12s 78ms/step - loss: 0.0108 - accuracy: 0.9988\n",
      "Epoch 24/60\n",
      "154/154 [==============================] - 12s 77ms/step - loss: 0.0074 - accuracy: 0.9986\n",
      "Epoch 25/60\n",
      "154/154 [==============================] - 12s 78ms/step - loss: 0.0021 - accuracy: 0.9996\n",
      "Epoch 26/60\n",
      "154/154 [==============================] - 12s 77ms/step - loss: 0.0068 - accuracy: 0.9990\n",
      "Epoch 27/60\n",
      "154/154 [==============================] - 12s 75ms/step - loss: 0.0095 - accuracy: 0.9994\n",
      "Epoch 28/60\n",
      "154/154 [==============================] - 12s 77ms/step - loss: 0.0036 - accuracy: 0.9998\n",
      "Epoch 29/60\n",
      "154/154 [==============================] - 12s 76ms/step - loss: 0.0056 - accuracy: 0.9996\n",
      "Epoch 30/60\n",
      "154/154 [==============================] - 12s 77ms/step - loss: 0.0036 - accuracy: 0.9994\n",
      "Epoch 31/60\n",
      "154/154 [==============================] - 12s 79ms/step - loss: 0.0256 - accuracy: 0.9986\n",
      "Epoch 32/60\n",
      "154/154 [==============================] - 12s 76ms/step - loss: 0.0012 - accuracy: 0.9992\n",
      "Epoch 33/60\n",
      "154/154 [==============================] - 12s 76ms/step - loss: 0.0078 - accuracy: 0.9988\n",
      "Epoch 34/60\n",
      "154/154 [==============================] - 12s 78ms/step - loss: 2.4030e-08 - accuracy: 1.0000\n",
      "Epoch 35/60\n",
      "154/154 [==============================] - 12s 76ms/step - loss: 4.4664e-09 - accuracy: 1.0000\n",
      "Epoch 36/60\n",
      "154/154 [==============================] - 12s 77ms/step - loss: 0.0234 - accuracy: 0.9986\n",
      "Epoch 37/60\n",
      "154/154 [==============================] - 12s 77ms/step - loss: 0.0036 - accuracy: 0.9998\n",
      "Epoch 38/60\n",
      "154/154 [==============================] - 12s 75ms/step - loss: 1.2011e-06 - accuracy: 1.0000\n",
      "Epoch 39/60\n",
      "154/154 [==============================] - 12s 77ms/step - loss: 3.6411e-10 - accuracy: 1.0000\n",
      "Epoch 40/60\n",
      "154/154 [==============================] - 12s 78ms/step - loss: 1.4564e-10 - accuracy: 1.0000\n",
      "Epoch 41/60\n",
      "154/154 [==============================] - 12s 76ms/step - loss: 7.2092e-09 - accuracy: 1.0000\n",
      "Epoch 42/60\n",
      "154/154 [==============================] - 12s 76ms/step - loss: 5.5830e-10 - accuracy: 1.0000\n",
      "Epoch 43/60\n",
      "154/154 [==============================] - 12s 75ms/step - loss: 2.0626e-04 - accuracy: 0.9998\n",
      "Epoch 44/60\n",
      "154/154 [==============================] - 12s 78ms/step - loss: 0.0027 - accuracy: 0.9998\n",
      "Epoch 45/60\n",
      "154/154 [==============================] - 12s 77ms/step - loss: 0.0052 - accuracy: 0.9996\n",
      "Epoch 46/60\n",
      "154/154 [==============================] - 12s 76ms/step - loss: 0.0025 - accuracy: 0.9998\n",
      "Epoch 47/60\n",
      "154/154 [==============================] - 12s 77ms/step - loss: 0.0023 - accuracy: 0.9996\n",
      "Epoch 48/60\n",
      "154/154 [==============================] - 12s 77ms/step - loss: 6.4611e-06 - accuracy: 1.0000\n",
      "Epoch 49/60\n",
      "154/154 [==============================] - 12s 76ms/step - loss: 1.0887e-04 - accuracy: 1.0000\n",
      "Epoch 50/60\n",
      "154/154 [==============================] - 12s 76ms/step - loss: 0.0010 - accuracy: 0.9996\n",
      "Epoch 51/60\n",
      "154/154 [==============================] - 12s 76ms/step - loss: 2.7065e-08 - accuracy: 1.0000\n",
      "Epoch 52/60\n",
      "154/154 [==============================] - 12s 77ms/step - loss: 2.4274e-11 - accuracy: 1.0000\n",
      "Epoch 53/60\n",
      "154/154 [==============================] - 12s 75ms/step - loss: 2.4976e-08 - accuracy: 1.0000\n",
      "Epoch 54/60\n",
      "154/154 [==============================] - 12s 78ms/step - loss: 1.7234e-09 - accuracy: 1.0000\n",
      "Epoch 55/60\n",
      "154/154 [==============================] - 12s 77ms/step - loss: 1.1409e-09 - accuracy: 1.0000\n",
      "Epoch 56/60\n",
      "154/154 [==============================] - 12s 75ms/step - loss: 1.6992e-10 - accuracy: 1.0000\n",
      "Epoch 57/60\n",
      "154/154 [==============================] - 12s 77ms/step - loss: 1.2137e-10 - accuracy: 1.0000\n",
      "Epoch 58/60\n",
      "154/154 [==============================] - 12s 76ms/step - loss: 3.2527e-09 - accuracy: 1.0000\n",
      "Epoch 59/60\n",
      "154/154 [==============================] - 12s 75ms/step - loss: 5.0004e-09 - accuracy: 1.0000\n",
      "Epoch 60/60\n",
      "154/154 [==============================] - 13s 83ms/step - loss: 0.0000e+00 - accuracy: 1.0000\n"
     ]
    },
    {
     "data": {
      "text/plain": [
       "<tensorflow.python.keras.callbacks.History at 0x7fdb76c5bb90>"
      ]
     },
     "execution_count": 6,
     "metadata": {},
     "output_type": "execute_result"
    }
   ],
   "source": [
    "inputs = tf.keras.Input(shape=(224,224,3))\n",
    "#x = inputs\n",
    "x = inception_model(inputs)\n",
    "input_ = tf.expand_dims(x,axis = 1)\n",
    "nb_chan = 512\n",
    "ratio = 16\n",
    "x3 = ConvLSTM2D(filters=512, kernel_size=(1,1),padding = \"same\")(input_) \n",
    "x3 = BatchNormalization(axis=3, momentum=0.0,epsilon=0.0001)(x3)\n",
    "x3 = Activation('relu')(x3)\n",
    "\n",
    "#x_add = Add()([x1,x3])\n",
    "y = tf.keras.layers.GlobalAveragePooling2D()(x3)\n",
    "y = tf.keras.layers.Dense(nb_chan // ratio, activation='relu')(y)\n",
    "y = tf.keras.layers.Dense(nb_chan, activation='sigmoid')(y)\n",
    "y_3 = tf.keras.layers.Multiply()([x3, y])\n",
    "\n",
    "ratio = 16\n",
    "y = tf.keras.layers.GlobalAveragePooling2D()(y_3)\n",
    "y = tf.keras.layers.Dense(nb_chan // ratio, activation='relu')(y)\n",
    "y = tf.keras.layers.Dense(nb_chan, activation='sigmoid')(y)\n",
    "y3 = tf.keras.layers.Multiply()([y_3, y])\n",
    "\n",
    "#x_add = Add()([y3,x2])\n",
    "flat = Flatten()(y3)\n",
    "\n",
    "dense_1 = Dense(4096,activation = 'relu')(flat)\n",
    "dense_2 = Dense(4096,activation = 'relu')(dense_1)\n",
    "prediction = Dense(3,activation = 'softmax')(dense_2)\n",
    "inception_pred = Model(inputs = inputs,outputs = prediction)\n",
    "inception_pred.summary()\n",
    "inception_pred.compile(optimizer = tf.keras.optimizers.RMSprop(learning_rate=0.0002), loss=tf.keras.losses.CategoricalCrossentropy(from_logits = False) , metrics=['accuracy'])\n",
    "\n",
    "inception_pred.fit(train_data,train_labels,batch_size = 32,epochs = 60)"
   ]
  },
  {
   "cell_type": "code",
   "execution_count": 7,
   "metadata": {
    "execution": {
     "iopub.execute_input": "2020-11-19T19:08:02.592238Z",
     "iopub.status.busy": "2020-11-19T19:08:02.591406Z",
     "iopub.status.idle": "2020-11-19T19:08:24.513044Z",
     "shell.execute_reply": "2020-11-19T19:08:24.513690Z"
    },
    "papermill": {
     "duration": 25.293217,
     "end_time": "2020-11-19T19:08:24.513875",
     "exception": false,
     "start_time": "2020-11-19T19:07:59.220658",
     "status": "completed"
    },
    "tags": []
   },
   "outputs": [
    {
     "name": "stdout",
     "output_type": "stream",
     "text": [
      "Shape of testing data\n",
      "(1229, 224, 224, 3)\n",
      "Shape of testing data\n",
      "(1229, 3)\n",
      "^_^-testing data finished-^_^\n"
     ]
    }
   ],
   "source": [
    "test_features = []\n",
    "data = []\n",
    "labels = []\n",
    "for i in range(len(l_test)):\n",
    "  file_name,label = l_test[i]\n",
    "  img = cv2.imread(file_name)\n",
    "  try:\n",
    "    img = cv2.resize(img,(224,224),interpolation = cv2.INTER_CUBIC)\n",
    "    #fd,hog_img = hog(img,orientations=8,pixels_per_cell=(16,16),cells_per_block=(1,1),visualize=True,multichannel=True)\n",
    "    #feature = hog_img.astype('float16')/255.0   \n",
    "    img = img.astype('float32')/255.0\n",
    "    #test_features.append(feature)\n",
    "    data.append(img)\n",
    "    labels.append(label)\n",
    "  except:\n",
    "    print(file_name,i)  \n",
    " \n",
    "test_data = np.array(data)\n",
    "print(\"Shape of testing data\")\n",
    "print(test_data.shape)\n",
    "\n",
    "test_labels = np.array(labels)\n",
    "print(\"Shape of testing data\")\n",
    "print(test_labels.shape)    \n",
    "#data = data.reshape((data.shape[0]*data.shape[1],data.shape[2],data.shape[3],1))\n",
    "#discard_n = len(data)-len(data)//batch_size*batch_size;\n",
    "#data = np.delete(data,range(discard_n),axis = 0)\n",
    "print('^_^-testing data finished-^_^')"
   ]
  },
  {
   "cell_type": "code",
   "execution_count": 8,
   "metadata": {
    "execution": {
     "iopub.execute_input": "2020-11-19T19:08:31.578267Z",
     "iopub.status.busy": "2020-11-19T19:08:31.577025Z",
     "iopub.status.idle": "2020-11-19T19:08:35.886053Z",
     "shell.execute_reply": "2020-11-19T19:08:35.885556Z"
    },
    "papermill": {
     "duration": 7.819067,
     "end_time": "2020-11-19T19:08:35.886166",
     "exception": false,
     "start_time": "2020-11-19T19:08:28.067099",
     "status": "completed"
    },
    "tags": []
   },
   "outputs": [
    {
     "name": "stdout",
     "output_type": "stream",
     "text": [
      "39/39 [==============================] - 2s 62ms/step - loss: 0.7955 - accuracy: 0.9699\n"
     ]
    },
    {
     "data": {
      "text/plain": [
       "[0.7954510450363159, 0.9698942303657532]"
      ]
     },
     "execution_count": 8,
     "metadata": {},
     "output_type": "execute_result"
    }
   ],
   "source": [
    "inception_pred.evaluate(test_data,test_labels)"
   ]
  },
  {
   "cell_type": "code",
   "execution_count": 9,
   "metadata": {
    "execution": {
     "iopub.execute_input": "2020-11-19T19:08:43.082406Z",
     "iopub.status.busy": "2020-11-19T19:08:43.081413Z",
     "iopub.status.idle": "2020-11-19T19:08:44.653475Z",
     "shell.execute_reply": "2020-11-19T19:08:44.652283Z"
    },
    "papermill": {
     "duration": 5.408044,
     "end_time": "2020-11-19T19:08:44.653618",
     "exception": false,
     "start_time": "2020-11-19T19:08:39.245574",
     "status": "completed"
    },
    "tags": []
   },
   "outputs": [],
   "source": [
    "inception_pred.save(\"inception_combined.h5\")"
   ]
  },
  {
   "cell_type": "code",
   "execution_count": 10,
   "metadata": {
    "execution": {
     "iopub.execute_input": "2020-11-19T19:08:52.105608Z",
     "iopub.status.busy": "2020-11-19T19:08:52.104357Z",
     "iopub.status.idle": "2020-11-19T19:08:52.107945Z",
     "shell.execute_reply": "2020-11-19T19:08:52.108539Z"
    },
    "papermill": {
     "duration": 3.547261,
     "end_time": "2020-11-19T19:08:52.108694",
     "exception": false,
     "start_time": "2020-11-19T19:08:48.561433",
     "status": "completed"
    },
    "tags": []
   },
   "outputs": [
    {
     "ename": "SyntaxError",
     "evalue": "invalid syntax (<ipython-input-10-f823aebae0ce>, line 1)",
     "output_type": "error",
     "traceback": [
      "\u001b[0;36m  File \u001b[0;32m\"<ipython-input-10-f823aebae0ce>\"\u001b[0;36m, line \u001b[0;32m1\u001b[0m\n\u001b[0;31m    95.93 normal inception\u001b[0m\n\u001b[0m               ^\u001b[0m\n\u001b[0;31mSyntaxError\u001b[0m\u001b[0;31m:\u001b[0m invalid syntax\n"
     ]
    }
   ],
   "source": [
    "95.93 normal inception\n",
    "96.50 convlstm se 1 block\n",
    "97.80 convlstm se 2 block"
   ]
  }
 ],
 "metadata": {
  "kernelspec": {
   "display_name": "Python 3",
   "language": "python",
   "name": "python3"
  },
  "language_info": {
   "codemirror_mode": {
    "name": "ipython",
    "version": 3
   },
   "file_extension": ".py",
   "mimetype": "text/x-python",
   "name": "python",
   "nbconvert_exporter": "python",
   "pygments_lexer": "ipython3",
   "version": "3.7.6"
  },
  "papermill": {
   "duration": 938.956849,
   "end_time": "2020-11-19T19:08:57.764703",
   "environment_variables": {},
   "exception": null,
   "input_path": "__notebook__.ipynb",
   "output_path": "__notebook__.ipynb",
   "parameters": {},
   "start_time": "2020-11-19T18:53:18.807854",
   "version": "2.1.0"
  }
 },
 "nbformat": 4,
 "nbformat_minor": 4
}

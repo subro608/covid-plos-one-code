{
 "cells": [
  {
   "cell_type": "code",
   "execution_count": 1,
   "metadata": {
    "execution": {
     "iopub.execute_input": "2020-11-23T15:30:29.051616Z",
     "iopub.status.busy": "2020-11-23T15:30:29.050731Z",
     "iopub.status.idle": "2020-11-23T15:30:33.512280Z",
     "shell.execute_reply": "2020-11-23T15:30:33.511187Z"
    },
    "papermill": {
     "duration": 4.511862,
     "end_time": "2020-11-23T15:30:33.512424",
     "exception": false,
     "start_time": "2020-11-23T15:30:29.000562",
     "status": "completed"
    },
    "tags": []
   },
   "outputs": [],
   "source": [
    "import tensorflow as tf"
   ]
  },
  {
   "cell_type": "code",
   "execution_count": 2,
   "metadata": {
    "_cell_guid": "79c7e3d0-c299-4dcb-8224-4455121ee9b0",
    "_uuid": "d629ff2d2480ee46fbb7e2d37f6b5fab8052498a",
    "execution": {
     "iopub.execute_input": "2020-11-23T15:30:33.647889Z",
     "iopub.status.busy": "2020-11-23T15:30:33.646953Z",
     "iopub.status.idle": "2020-11-23T15:30:39.349178Z",
     "shell.execute_reply": "2020-11-23T15:30:39.347865Z"
    },
    "papermill": {
     "duration": 5.774119,
     "end_time": "2020-11-23T15:30:39.349337",
     "exception": false,
     "start_time": "2020-11-23T15:30:33.575218",
     "status": "completed"
    },
    "tags": []
   },
   "outputs": [],
   "source": [
    "import os,glob\n",
    "import numpy as np\n",
    "import cv2\n",
    "import glob\n",
    "import pickle\n",
    "import tensorflow as tf\n",
    "import argparse\n",
    "import re\n",
    "import datetime\n",
    "from tensorflow.keras.layers import  Input,Conv2D,BatchNormalization,Activation,Subtract,LeakyReLU,Add,Average,Lambda,MaxPool2D,Dropout,UpSampling2D,Concatenate,Multiply,GlobalAveragePooling2D,Dense,ZeroPadding2D,AveragePooling2D\n",
    "from tensorflow.keras.layers import concatenate,Flatten,ConvLSTM2D,LayerNormalization,GlobalAveragePooling2D\n",
    "from tensorflow.keras.models import Model, load_model\n",
    "from tensorflow.keras.callbacks import CSVLogger, ModelCheckpoint, LearningRateScheduler\n",
    "from tensorflow.keras.optimizers import Adam\n",
    "from tensorflow.keras import Sequential\n",
    "import tensorflow.keras.backend as K\n",
    "from sklearn.svm import LinearSVC\n",
    "import matplotlib.pyplot as plt\n",
    "from numpy import loadtxt\n",
    "from xgboost import XGBClassifier\n",
    "from sklearn.model_selection import train_test_split\n",
    "from sklearn.metrics import accuracy_score\n",
    "from skimage.feature import hog,local_binary_pattern\n",
    "from skimage import data, exposure\n",
    "from tensorflow.keras.layers import Layer "
   ]
  },
  {
   "cell_type": "code",
   "execution_count": 3,
   "metadata": {
    "execution": {
     "iopub.execute_input": "2020-11-23T15:30:39.452662Z",
     "iopub.status.busy": "2020-11-23T15:30:39.451857Z",
     "iopub.status.idle": "2020-11-23T15:31:02.646097Z",
     "shell.execute_reply": "2020-11-23T15:31:02.647357Z"
    },
    "papermill": {
     "duration": 23.252549,
     "end_time": "2020-11-23T15:31:02.647539",
     "exception": false,
     "start_time": "2020-11-23T15:30:39.394990",
     "status": "completed"
    },
    "tags": []
   },
   "outputs": [
    {
     "name": "stdout",
     "output_type": "stream",
     "text": [
      "Cloning into 'covid-chestxray-dataset'...\r\n",
      "remote: Enumerating objects: 3614, done.\u001b[K\r\n",
      "remote: Total 3614 (delta 0), reused 0 (delta 0), pack-reused 3614\u001b[K\r\n",
      "Receiving objects: 100% (3614/3614), 632.87 MiB | 39.56 MiB/s, done.\r\n",
      "Resolving deltas: 100% (1433/1433), done.\r\n",
      "Checking out files: 100% (1173/1173), done.\r\n",
      "Number of covid-19 files\n",
      "924\n"
     ]
    }
   ],
   "source": [
    "\n",
    "!git clone https://github.com/ieee8023/covid-chestxray-dataset.git\n",
    "\n",
    "normal_dir = \"./covid-chestxray-dataset/images\"\n",
    "dir1 = os.path.join(normal_dir,\"*.png\")\n",
    "dir = os.path.join(normal_dir,\"*.jpg\")\n",
    "dir2 = os.path.join(normal_dir,\"*.jpeg\")\n",
    "covid_files = glob.glob(dir)\n",
    "covid_files2 = glob.glob(dir2)\n",
    "covid_files1 = glob.glob(dir1)\n",
    "covid_files.extend(covid_files2)\n",
    "covid_files.extend(covid_files1)\n",
    "print(\"Number of covid-19 files\")\n",
    "print(len(covid_files))"
   ]
  },
  {
   "cell_type": "code",
   "execution_count": 4,
   "metadata": {
    "execution": {
     "iopub.execute_input": "2020-11-23T15:31:02.862830Z",
     "iopub.status.busy": "2020-11-23T15:31:02.862033Z",
     "iopub.status.idle": "2020-11-23T15:32:42.623678Z",
     "shell.execute_reply": "2020-11-23T15:32:42.624597Z"
    },
    "papermill": {
     "duration": 99.867459,
     "end_time": "2020-11-23T15:32:42.624831",
     "exception": false,
     "start_time": "2020-11-23T15:31:02.757372",
     "status": "completed"
    },
    "tags": []
   },
   "outputs": [
    {
     "name": "stdout",
     "output_type": "stream",
     "text": [
      "Number of normal files\n",
      "1341\n",
      "Number of Pneumonia files\n",
      "3875\n",
      "4911 1229\n",
      "Shape of training data\n",
      "(4911, 224, 224, 3)\n",
      "Shape of training labels\n",
      "(4911, 3)\n",
      "^_^-training data finished-^_^\n"
     ]
    }
   ],
   "source": [
    "normal_dir = \"../input/chest-xray-pneumonia/chest_xray/train/NORMAL\"\n",
    "dir1 = os.path.join(normal_dir,\"*.png\")\n",
    "dir2 = os.path.join(normal_dir,\"*.jpeg\")\n",
    "dir = os.path.join(normal_dir,\"*.jpg\")\n",
    "normal_files = glob.glob(dir)\n",
    "normal_1 = glob.glob(dir1)\n",
    "normal_2 = glob.glob(dir2)\n",
    "normal_files.extend(normal_1)\n",
    "normal_files.extend(normal_2)\n",
    "print(\"Number of normal files\")\n",
    "print(len(normal_files))\n",
    "\n",
    "normal_dir = \"../input/chest-xray-pneumonia/chest_xray/train/PNEUMONIA\"\n",
    "dir1 = os.path.join(normal_dir,\"*.png\")\n",
    "dir2 = os.path.join(normal_dir,\"*.jpeg\")\n",
    "dir = os.path.join(normal_dir,\"*.jpg\")\n",
    "pneumonia_files = glob.glob(dir)\n",
    "pneumonia_1 = glob.glob(dir1)\n",
    "pneumonia_2 = glob.glob(dir2)\n",
    "pneumonia_files.extend(pneumonia_1)\n",
    "pneumonia_files.extend(pneumonia_2)\n",
    "\n",
    "train_dic = {}\n",
    "for f in covid_files[:739]:\n",
    "  train_dic[f] = [1,0,0]\n",
    "for f in normal_files[:1072]:\n",
    "  train_dic[f] = [0,1,0]\n",
    "for f in pneumonia_files[:3100]:\n",
    "  train_dic[f] = [0,0,1]\n",
    "print(\"Number of Pneumonia files\")\n",
    "print(len(pneumonia_files))\n",
    "\n",
    "test_dic = {}\n",
    "for f in covid_files[739:]:\n",
    "  test_dic[f] = [1,0,0]\n",
    "for f in normal_files[1072:]:\n",
    "  test_dic[f] = [0,1,0]\n",
    "for f in pneumonia_files[3100:]:\n",
    "  test_dic[f] = [0,0,1]\n",
    "\n",
    "import random\n",
    "l = list(train_dic.items())\n",
    "random.shuffle(l)\n",
    "l_test = list(test_dic.items())\n",
    "random.shuffle(l_test)\n",
    "print(len(l),len(l_test))\n",
    "\n",
    "train_features = []\n",
    "covid_dic_list = {}\n",
    "data = []\n",
    "data_112 = []\n",
    "data_56 = []\n",
    "data_256 = []\n",
    "labels = []\n",
    "for i in range(len(l)):\n",
    "  file_name,label = l[i]\n",
    "  img = cv2.imread(file_name)\n",
    "  try:\n",
    "    img = cv2.resize(img,(224,224),interpolation = cv2.INTER_CUBIC)\n",
    "    #img2 = cv2.resize(img,(256,256),interpolation = cv2.INTER_CUBIC)\n",
    "    #img3 = cv2.resize(img,(112,112),interpolation = cv2.INTER_CUBIC)\n",
    "    #img4 = cv2.resize(img,(56,56),interpolation = cv2.INTER_CUBIC)\n",
    "    \n",
    "    img = img.astype('float32')/255.0\n",
    "    #img2 = img2.astype('float16')/255.0\n",
    "    #img3 = img3.astype('float32')/255.0\n",
    "    #img4 = img4.astype('float16')/255.0\n",
    "    \n",
    "    #data_56.append(img4)\n",
    "    #data_112.append(img3)\n",
    "    #data_256.append(img)2\n",
    "    data.append(img)\n",
    "    labels.append(label)\n",
    "\n",
    "  except:\n",
    "    print(i,file_name)\n",
    "    print(\"Not possible\")  \n",
    "train_data = np.array(data)\n",
    "print(\"Shape of training data\")\n",
    "print(train_data.shape)\n",
    "\n",
    "\n",
    "#train_data_56 = np.array(data_56)\n",
    "#print(train_data_56.shape)\n",
    "#train_data_112 = np.array(data_112)\n",
    "#print(train_data_112.shape)\n",
    "#train_data_256 = np.array(data_256)\n",
    "#print(train_data_256.shape)\n",
    "\n",
    "\n",
    "train_labels = np.array(labels)\n",
    "print(\"Shape of training labels\")\n",
    "print(train_labels.shape)    \n",
    "\n",
    "print('^_^-training data finished-^_^')"
   ]
  },
  {
   "cell_type": "code",
   "execution_count": 5,
   "metadata": {
    "execution": {
     "iopub.execute_input": "2020-11-23T15:32:42.780848Z",
     "iopub.status.busy": "2020-11-23T15:32:42.776956Z",
     "iopub.status.idle": "2020-11-23T15:33:06.180551Z",
     "shell.execute_reply": "2020-11-23T15:33:06.179760Z"
    },
    "papermill": {
     "duration": 23.48212,
     "end_time": "2020-11-23T15:33:06.180678",
     "exception": false,
     "start_time": "2020-11-23T15:32:42.698558",
     "status": "completed"
    },
    "tags": []
   },
   "outputs": [
    {
     "name": "stdout",
     "output_type": "stream",
     "text": [
      "Shape of testing data\n",
      "(1229, 224, 224, 3)\n",
      "Shape of testing data\n",
      "(1229, 3)\n",
      "^_^-testing data finished-^_^\n"
     ]
    }
   ],
   "source": [
    "\n",
    "test_features = []\n",
    "data = []\n",
    "labels = []\n",
    "for i in range(len(l_test)):\n",
    "  file_name,label = l_test[i]\n",
    "  img = cv2.imread(file_name)\n",
    "  try:\n",
    "    img = cv2.resize(img,(224,224),interpolation = cv2.INTER_CUBIC)\n",
    "    #fd,hog_img = hog(img,orientations=8,pixels_per_cell=(16,16),cells_per_block=(1,1),visualize=True,multichannel=True)\n",
    "    #feature = hog_img.astype('float16')/255.0   \n",
    "    img = img.astype('float32')/255.0\n",
    "    #test_features.append(feature)\n",
    "    data.append(img)\n",
    "    labels.append(label)\n",
    "  except:\n",
    "    print(file_name,i)  \n",
    "test_data = np.array(data)\n",
    "print(\"Shape of testing data\")\n",
    "print(test_data.shape)\n",
    "\n",
    "test_labels = np.array(labels)\n",
    "print(\"Shape of testing data\")\n",
    "print(test_labels.shape)    \n",
    "#data = data.reshape((data.shape[0]*data.shape[1],data.shape[2],data.shape[3],1))\n",
    "#discard_n = len(data)-len(data)//batch_size*batch_size;\n",
    "#data = np.delete(data,range(discard_n),axis = 0)\n",
    "print('^_^-testing data finished-^_^')"
   ]
  },
  {
   "cell_type": "code",
   "execution_count": 6,
   "metadata": {
    "_cell_guid": "b1076dfc-b9ad-4769-8c92-a6c4dae69d19",
    "_uuid": "8f2839f25d086af736a60e9eeb907d3b93b6e0e5",
    "execution": {
     "iopub.execute_input": "2020-11-23T15:33:06.335880Z",
     "iopub.status.busy": "2020-11-23T15:33:06.335068Z",
     "iopub.status.idle": "2020-11-23T15:33:21.385109Z",
     "shell.execute_reply": "2020-11-23T15:33:21.383947Z"
    },
    "papermill": {
     "duration": 15.129259,
     "end_time": "2020-11-23T15:33:21.385239",
     "exception": false,
     "start_time": "2020-11-23T15:33:06.255980",
     "status": "completed"
    },
    "tags": []
   },
   "outputs": [],
   "source": [
    "vgg = tf.keras.models.load_model(\"../input/new-covid-19-work/VGG_combined2.h5\",compile = False)\n",
    "inception = tf.keras.models.load_model(\"../input/inception-combined/inception_combined.h5\",compile = False)\n",
    "mobilenet = tf.keras.models.load_model(\"../input/mobilenet-combined/mobilenet.h5\",compile = False)"
   ]
  },
  {
   "cell_type": "code",
   "execution_count": 7,
   "metadata": {
    "execution": {
     "iopub.execute_input": "2020-11-23T15:33:22.116809Z",
     "iopub.status.busy": "2020-11-23T15:33:22.116041Z",
     "iopub.status.idle": "2020-11-23T15:33:37.070722Z",
     "shell.execute_reply": "2020-11-23T15:33:37.069784Z"
    },
    "papermill": {
     "duration": 15.612067,
     "end_time": "2020-11-23T15:33:37.070862",
     "exception": false,
     "start_time": "2020-11-23T15:33:21.458795",
     "status": "completed"
    },
    "tags": []
   },
   "outputs": [],
   "source": [
    "mobilenet_test = mobilenet.predict(test_data)\n",
    "inception_test = inception.predict(test_data)\n",
    "vgg_test = vgg.predict(test_data)"
   ]
  },
  {
   "cell_type": "code",
   "execution_count": 8,
   "metadata": {
    "execution": {
     "iopub.execute_input": "2020-11-23T15:33:37.229730Z",
     "iopub.status.busy": "2020-11-23T15:33:37.228933Z",
     "iopub.status.idle": "2020-11-23T15:33:37.233126Z",
     "shell.execute_reply": "2020-11-23T15:33:37.233642Z"
    },
    "papermill": {
     "duration": 0.08812,
     "end_time": "2020-11-23T15:33:37.233769",
     "exception": false,
     "start_time": "2020-11-23T15:33:37.145649",
     "status": "completed"
    },
    "tags": []
   },
   "outputs": [
    {
     "data": {
      "text/plain": [
       "array([1, 1, 1, ..., 1, 1, 1])"
      ]
     },
     "execution_count": 8,
     "metadata": {},
     "output_type": "execute_result"
    }
   ],
   "source": [
    "test_labels[:,2]"
   ]
  },
  {
   "cell_type": "code",
   "execution_count": 9,
   "metadata": {
    "execution": {
     "iopub.execute_input": "2020-11-23T15:33:37.398510Z",
     "iopub.status.busy": "2020-11-23T15:33:37.397630Z",
     "iopub.status.idle": "2020-11-23T15:33:37.936980Z",
     "shell.execute_reply": "2020-11-23T15:33:37.936467Z"
    },
    "papermill": {
     "duration": 0.623636,
     "end_time": "2020-11-23T15:33:37.937092",
     "exception": false,
     "start_time": "2020-11-23T15:33:37.313456",
     "status": "completed"
    },
    "tags": []
   },
   "outputs": [
    {
     "ename": "NameError",
     "evalue": "name 'Y_test_inception' is not defined",
     "output_type": "error",
     "traceback": [
      "\u001b[0;31m---------------------------------------------------------------------------\u001b[0m",
      "\u001b[0;31mNameError\u001b[0m                                 Traceback (most recent call last)",
      "\u001b[0;32m<ipython-input-9-a8458e272c64>\u001b[0m in \u001b[0;36m<module>\u001b[0;34m\u001b[0m\n\u001b[0;32m----> 1\u001b[0;31m \u001b[0mY_test_inception\u001b[0m\u001b[0;34m\u001b[0m\u001b[0;34m\u001b[0m\u001b[0m\n\u001b[0m",
      "\u001b[0;31mNameError\u001b[0m: name 'Y_test_inception' is not defined"
     ]
    }
   ],
   "source": [
    "Y_test_inception"
   ]
  },
  {
   "cell_type": "code",
   "execution_count": 10,
   "metadata": {
    "execution": {
     "iopub.execute_input": "2020-11-23T15:33:38.106471Z",
     "iopub.status.busy": "2020-11-23T15:33:38.105737Z",
     "iopub.status.idle": "2020-11-23T15:33:38.110255Z",
     "shell.execute_reply": "2020-11-23T15:33:38.109697Z"
    },
    "papermill": {
     "duration": 0.090296,
     "end_time": "2020-11-23T15:33:38.110379",
     "exception": false,
     "start_time": "2020-11-23T15:33:38.020083",
     "status": "completed"
    },
    "tags": []
   },
   "outputs": [],
   "source": [
    "Y_test_inception = np.argmax(inception_test, axis=1)\n",
    "Y_test_mobilenet = np.argmax(mobilenet_test, axis=1)\n",
    "Y_test_vgg = np.argmax(vgg_test, axis=1)"
   ]
  },
  {
   "cell_type": "code",
   "execution_count": 11,
   "metadata": {
    "execution": {
     "iopub.execute_input": "2020-11-23T15:33:38.268613Z",
     "iopub.status.busy": "2020-11-23T15:33:38.267639Z",
     "iopub.status.idle": "2020-11-23T15:33:38.273444Z",
     "shell.execute_reply": "2020-11-23T15:33:38.272838Z"
    },
    "papermill": {
     "duration": 0.08663,
     "end_time": "2020-11-23T15:33:38.273550",
     "exception": false,
     "start_time": "2020-11-23T15:33:38.186920",
     "status": "completed"
    },
    "tags": []
   },
   "outputs": [],
   "source": [
    "Y_pred= np.argmax(test_labels, axis=1)"
   ]
  },
  {
   "cell_type": "code",
   "execution_count": 12,
   "metadata": {
    "execution": {
     "iopub.execute_input": "2020-11-23T15:33:38.432739Z",
     "iopub.status.busy": "2020-11-23T15:33:38.431929Z",
     "iopub.status.idle": "2020-11-23T15:33:38.435208Z",
     "shell.execute_reply": "2020-11-23T15:33:38.434676Z"
    },
    "papermill": {
     "duration": 0.085256,
     "end_time": "2020-11-23T15:33:38.435338",
     "exception": false,
     "start_time": "2020-11-23T15:33:38.350082",
     "status": "completed"
    },
    "tags": []
   },
   "outputs": [],
   "source": [
    "\n",
    "y_pred = np.average([Y_test_inception,Y_test_mobilenet,Y_test_vgg],axis = 0)"
   ]
  },
  {
   "cell_type": "code",
   "execution_count": 13,
   "metadata": {
    "execution": {
     "iopub.execute_input": "2020-11-23T15:33:38.595746Z",
     "iopub.status.busy": "2020-11-23T15:33:38.594907Z",
     "iopub.status.idle": "2020-11-23T15:33:38.598110Z",
     "shell.execute_reply": "2020-11-23T15:33:38.597528Z"
    },
    "papermill": {
     "duration": 0.084793,
     "end_time": "2020-11-23T15:33:38.598219",
     "exception": false,
     "start_time": "2020-11-23T15:33:38.513426",
     "status": "completed"
    },
    "tags": []
   },
   "outputs": [],
   "source": [
    "y_pred = y_pred.astype(int)"
   ]
  },
  {
   "cell_type": "code",
   "execution_count": 14,
   "metadata": {
    "execution": {
     "iopub.execute_input": "2020-11-23T15:33:38.764736Z",
     "iopub.status.busy": "2020-11-23T15:33:38.763836Z",
     "iopub.status.idle": "2020-11-23T15:33:38.767438Z",
     "shell.execute_reply": "2020-11-23T15:33:38.768020Z"
    },
    "papermill": {
     "duration": 0.09117,
     "end_time": "2020-11-23T15:33:38.768154",
     "exception": false,
     "start_time": "2020-11-23T15:33:38.676984",
     "status": "completed"
    },
    "tags": []
   },
   "outputs": [
    {
     "data": {
      "text/plain": [
       "array([2, 2, 2, ..., 2, 2, 2])"
      ]
     },
     "execution_count": 14,
     "metadata": {},
     "output_type": "execute_result"
    }
   ],
   "source": [
    "Y_pred"
   ]
  },
  {
   "cell_type": "markdown",
   "metadata": {
    "papermill": {
     "duration": 0.078336,
     "end_time": "2020-11-23T15:33:38.926561",
     "exception": false,
     "start_time": "2020-11-23T15:33:38.848225",
     "status": "completed"
    },
    "tags": []
   },
   "source": [
    "Average ensemble"
   ]
  },
  {
   "cell_type": "code",
   "execution_count": 15,
   "metadata": {
    "execution": {
     "iopub.execute_input": "2020-11-23T15:33:39.094311Z",
     "iopub.status.busy": "2020-11-23T15:33:39.093281Z",
     "iopub.status.idle": "2020-11-23T15:33:39.099366Z",
     "shell.execute_reply": "2020-11-23T15:33:39.100102Z"
    },
    "papermill": {
     "duration": 0.093192,
     "end_time": "2020-11-23T15:33:39.100310",
     "exception": false,
     "start_time": "2020-11-23T15:33:39.007118",
     "status": "completed"
    },
    "tags": []
   },
   "outputs": [
    {
     "name": "stdout",
     "output_type": "stream",
     "text": [
      "0.9796582587469488\n"
     ]
    }
   ],
   "source": [
    "print(accuracy_score(Y_pred,y_pred))"
   ]
  },
  {
   "cell_type": "code",
   "execution_count": 16,
   "metadata": {
    "execution": {
     "iopub.execute_input": "2020-11-23T15:33:39.264492Z",
     "iopub.status.busy": "2020-11-23T15:33:39.263489Z",
     "iopub.status.idle": "2020-11-23T15:33:39.266802Z",
     "shell.execute_reply": "2020-11-23T15:33:39.266223Z"
    },
    "papermill": {
     "duration": 0.086941,
     "end_time": "2020-11-23T15:33:39.266914",
     "exception": false,
     "start_time": "2020-11-23T15:33:39.179973",
     "status": "completed"
    },
    "tags": []
   },
   "outputs": [],
   "source": [
    "from sklearn.metrics import classification_report, confusion_matrix,accuracy_score"
   ]
  },
  {
   "cell_type": "code",
   "execution_count": 17,
   "metadata": {
    "execution": {
     "iopub.execute_input": "2020-11-23T15:33:39.430994Z",
     "iopub.status.busy": "2020-11-23T15:33:39.430044Z",
     "iopub.status.idle": "2020-11-23T15:33:39.444194Z",
     "shell.execute_reply": "2020-11-23T15:33:39.444739Z"
    },
    "papermill": {
     "duration": 0.097683,
     "end_time": "2020-11-23T15:33:39.444888",
     "exception": false,
     "start_time": "2020-11-23T15:33:39.347205",
     "status": "completed"
    },
    "tags": []
   },
   "outputs": [
    {
     "name": "stdout",
     "output_type": "stream",
     "text": [
      "              precision    recall  f1-score   support\n",
      "\n",
      "           0       0.98      0.99      0.99       185\n",
      "           1       0.92      1.00      0.96       269\n",
      "           2       1.00      0.97      0.99       775\n",
      "\n",
      "    accuracy                           0.98      1229\n",
      "   macro avg       0.97      0.99      0.98      1229\n",
      "weighted avg       0.98      0.98      0.98      1229\n",
      "\n"
     ]
    }
   ],
   "source": [
    "print(classification_report(Y_pred,y_pred))"
   ]
  },
  {
   "cell_type": "code",
   "execution_count": 18,
   "metadata": {
    "execution": {
     "iopub.execute_input": "2020-11-23T15:33:39.617043Z",
     "iopub.status.busy": "2020-11-23T15:33:39.616129Z",
     "iopub.status.idle": "2020-11-23T15:33:39.625635Z",
     "shell.execute_reply": "2020-11-23T15:33:39.626071Z"
    },
    "papermill": {
     "duration": 0.100518,
     "end_time": "2020-11-23T15:33:39.626226",
     "exception": false,
     "start_time": "2020-11-23T15:33:39.525708",
     "status": "completed"
    },
    "tags": []
   },
   "outputs": [
    {
     "name": "stdout",
     "output_type": "stream",
     "text": [
      "[[183   2   0]\n",
      " [  1 268   0]\n",
      " [  2  20 753]]\n"
     ]
    }
   ],
   "source": [
    "print(confusion_matrix(Y_pred,y_pred))"
   ]
  },
  {
   "cell_type": "code",
   "execution_count": 19,
   "metadata": {
    "execution": {
     "iopub.execute_input": "2020-11-23T15:33:39.800857Z",
     "iopub.status.busy": "2020-11-23T15:33:39.799800Z",
     "iopub.status.idle": "2020-11-23T15:33:39.803079Z",
     "shell.execute_reply": "2020-11-23T15:33:39.802541Z"
    },
    "papermill": {
     "duration": 0.094485,
     "end_time": "2020-11-23T15:33:39.803202",
     "exception": false,
     "start_time": "2020-11-23T15:33:39.708717",
     "status": "completed"
    },
    "tags": []
   },
   "outputs": [],
   "source": [
    "\n",
    "y_pred_weight = (Y_test_vgg * 0.2 + Y_test_inception * 0.3 + Y_test_mobilenet * 0.7)\n",
    "y_pred_weight = y_pred_weight.astype(int)"
   ]
  },
  {
   "cell_type": "markdown",
   "metadata": {
    "papermill": {
     "duration": 0.08172,
     "end_time": "2020-11-23T15:33:39.966356",
     "exception": false,
     "start_time": "2020-11-23T15:33:39.884636",
     "status": "completed"
    },
    "tags": []
   },
   "source": [
    "weighted average"
   ]
  },
  {
   "cell_type": "code",
   "execution_count": 20,
   "metadata": {
    "execution": {
     "iopub.execute_input": "2020-11-23T15:33:40.138167Z",
     "iopub.status.busy": "2020-11-23T15:33:40.137214Z",
     "iopub.status.idle": "2020-11-23T15:33:40.143026Z",
     "shell.execute_reply": "2020-11-23T15:33:40.142389Z"
    },
    "papermill": {
     "duration": 0.092401,
     "end_time": "2020-11-23T15:33:40.143127",
     "exception": false,
     "start_time": "2020-11-23T15:33:40.050726",
     "status": "completed"
    },
    "tags": []
   },
   "outputs": [
    {
     "name": "stdout",
     "output_type": "stream",
     "text": [
      "0.9788445890968267\n"
     ]
    }
   ],
   "source": [
    "print(accuracy_score(Y_pred,y_pred_weight))"
   ]
  },
  {
   "cell_type": "code",
   "execution_count": 21,
   "metadata": {
    "execution": {
     "iopub.execute_input": "2020-11-23T15:33:40.310672Z",
     "iopub.status.busy": "2020-11-23T15:33:40.309750Z",
     "iopub.status.idle": "2020-11-23T15:33:40.322628Z",
     "shell.execute_reply": "2020-11-23T15:33:40.322092Z"
    },
    "papermill": {
     "duration": 0.097291,
     "end_time": "2020-11-23T15:33:40.322739",
     "exception": false,
     "start_time": "2020-11-23T15:33:40.225448",
     "status": "completed"
    },
    "tags": []
   },
   "outputs": [
    {
     "name": "stdout",
     "output_type": "stream",
     "text": [
      "              precision    recall  f1-score   support\n",
      "\n",
      "           0       0.99      0.98      0.98       185\n",
      "           1       0.92      1.00      0.96       269\n",
      "           2       1.00      0.97      0.99       775\n",
      "\n",
      "    accuracy                           0.98      1229\n",
      "   macro avg       0.97      0.98      0.98      1229\n",
      "weighted avg       0.98      0.98      0.98      1229\n",
      "\n"
     ]
    }
   ],
   "source": [
    "print(classification_report(Y_pred,y_pred_weight))"
   ]
  },
  {
   "cell_type": "code",
   "execution_count": 22,
   "metadata": {
    "execution": {
     "iopub.execute_input": "2020-11-23T15:33:40.492492Z",
     "iopub.status.busy": "2020-11-23T15:33:40.491552Z",
     "iopub.status.idle": "2020-11-23T15:33:40.499564Z",
     "shell.execute_reply": "2020-11-23T15:33:40.500131Z"
    },
    "papermill": {
     "duration": 0.09584,
     "end_time": "2020-11-23T15:33:40.500292",
     "exception": false,
     "start_time": "2020-11-23T15:33:40.404452",
     "status": "completed"
    },
    "tags": []
   },
   "outputs": [
    {
     "name": "stdout",
     "output_type": "stream",
     "text": [
      "[[181   3   1]\n",
      " [  1 268   0]\n",
      " [  1  20 754]]\n"
     ]
    }
   ],
   "source": [
    "print(confusion_matrix(Y_pred,y_pred_weight))"
   ]
  },
  {
   "cell_type": "markdown",
   "metadata": {
    "papermill": {
     "duration": 0.113828,
     "end_time": "2020-11-23T15:33:40.698706",
     "exception": false,
     "start_time": "2020-11-23T15:33:40.584878",
     "status": "completed"
    },
    "tags": []
   },
   "source": [
    "Majority voting"
   ]
  },
  {
   "cell_type": "code",
   "execution_count": 23,
   "metadata": {
    "execution": {
     "iopub.execute_input": "2020-11-23T15:33:40.959620Z",
     "iopub.status.busy": "2020-11-23T15:33:40.958488Z",
     "iopub.status.idle": "2020-11-23T15:33:40.986454Z",
     "shell.execute_reply": "2020-11-23T15:33:40.984987Z"
    },
    "papermill": {
     "duration": 0.162227,
     "end_time": "2020-11-23T15:33:40.986611",
     "exception": false,
     "start_time": "2020-11-23T15:33:40.824384",
     "status": "completed"
    },
    "tags": []
   },
   "outputs": [],
   "source": [
    "count = 0 \n",
    "total = 0\n",
    "test_pred = Y_test_mobilenet\n",
    "for i in range(len(Y_pred)):\n",
    "    if Y_pred[i] == Y_test_inception[i]:\n",
    "        k = Y_test_inception[i]\n",
    "        count = count+1\n",
    "    if Y_pred[i] == Y_test_mobilenet[i]:\n",
    "        k = Y_test_mobilenet[i]\n",
    "        count = count+1\n",
    "    if Y_pred[i] == Y_test_vgg[i]:   \n",
    "        k = Y_test_vgg[i]  \n",
    "        count = count+1\n",
    " \n",
    "    if count == 0 or count == 1:\n",
    "        if k == test_pred[i] and k == 2:\n",
    "            test_pred[i] = test_pred[i]-1\n",
    "        elif k == test_pred[i] and (k == 0 or k == 1):\n",
    "            test_pred[i] = test_pred[i]+1\n",
    "    if count == 2 or count == 3:\n",
    "        test_pred[i] = k\n",
    "        total = total+1\n",
    "    count = 0"
   ]
  },
  {
   "cell_type": "code",
   "execution_count": 24,
   "metadata": {
    "execution": {
     "iopub.execute_input": "2020-11-23T15:33:41.274775Z",
     "iopub.status.busy": "2020-11-23T15:33:41.273875Z",
     "iopub.status.idle": "2020-11-23T15:33:41.277437Z",
     "shell.execute_reply": "2020-11-23T15:33:41.278363Z"
    },
    "papermill": {
     "duration": 0.13114,
     "end_time": "2020-11-23T15:33:41.278554",
     "exception": false,
     "start_time": "2020-11-23T15:33:41.147414",
     "status": "completed"
    },
    "tags": []
   },
   "outputs": [
    {
     "data": {
      "text/plain": [
       "0.9951179820992677"
      ]
     },
     "execution_count": 24,
     "metadata": {},
     "output_type": "execute_result"
    }
   ],
   "source": [
    "total/len(Y_pred)"
   ]
  },
  {
   "cell_type": "code",
   "execution_count": 25,
   "metadata": {
    "execution": {
     "iopub.execute_input": "2020-11-23T15:33:41.495525Z",
     "iopub.status.busy": "2020-11-23T15:33:41.494505Z",
     "iopub.status.idle": "2020-11-23T15:33:41.510598Z",
     "shell.execute_reply": "2020-11-23T15:33:41.511181Z"
    },
    "papermill": {
     "duration": 0.10909,
     "end_time": "2020-11-23T15:33:41.511329",
     "exception": false,
     "start_time": "2020-11-23T15:33:41.402239",
     "status": "completed"
    },
    "tags": []
   },
   "outputs": [
    {
     "name": "stdout",
     "output_type": "stream",
     "text": [
      "              precision    recall  f1-score   support\n",
      "\n",
      "           0       0.99      0.98      0.99       185\n",
      "           1       0.99      1.00      1.00       269\n",
      "           2       1.00      1.00      1.00       775\n",
      "\n",
      "    accuracy                           1.00      1229\n",
      "   macro avg       0.99      0.99      0.99      1229\n",
      "weighted avg       1.00      1.00      1.00      1229\n",
      "\n",
      "[[182   1   2]\n",
      " [  0 269   0]\n",
      " [  1   1 773]]\n",
      "0.9959316517493898\n"
     ]
    }
   ],
   "source": [
    "print(classification_report(Y_pred,test_pred))\n",
    "print(confusion_matrix(Y_pred,test_pred))\n",
    "print(accuracy_score(Y_pred,test_pred))"
   ]
  },
  {
   "cell_type": "code",
   "execution_count": null,
   "metadata": {
    "papermill": {
     "duration": 0.091682,
     "end_time": "2020-11-23T15:33:41.687456",
     "exception": false,
     "start_time": "2020-11-23T15:33:41.595774",
     "status": "completed"
    },
    "tags": []
   },
   "outputs": [],
   "source": []
  },
  {
   "cell_type": "code",
   "execution_count": null,
   "metadata": {
    "papermill": {
     "duration": 0.08626,
     "end_time": "2020-11-23T15:33:41.861186",
     "exception": false,
     "start_time": "2020-11-23T15:33:41.774926",
     "status": "completed"
    },
    "tags": []
   },
   "outputs": [],
   "source": []
  },
  {
   "cell_type": "code",
   "execution_count": 26,
   "metadata": {
    "execution": {
     "iopub.execute_input": "2020-11-23T15:33:42.041028Z",
     "iopub.status.busy": "2020-11-23T15:33:42.039777Z",
     "iopub.status.idle": "2020-11-23T15:33:42.053012Z",
     "shell.execute_reply": "2020-11-23T15:33:42.053609Z"
    },
    "papermill": {
     "duration": 0.108476,
     "end_time": "2020-11-23T15:33:42.053790",
     "exception": false,
     "start_time": "2020-11-23T15:33:41.945314",
     "status": "completed"
    },
    "tags": []
   },
   "outputs": [
    {
     "name": "stdout",
     "output_type": "stream",
     "text": [
      "              precision    recall  f1-score   support\n",
      "\n",
      "           0       1.00      0.97      0.99       185\n",
      "           1       0.99      0.98      0.99       269\n",
      "           2       0.99      1.00      0.99       775\n",
      "\n",
      "    accuracy                           0.99      1229\n",
      "   macro avg       0.99      0.98      0.99      1229\n",
      "weighted avg       0.99      0.99      0.99      1229\n",
      "\n"
     ]
    }
   ],
   "source": [
    "print(classification_report(Y_pred,Y_test_inception))"
   ]
  },
  {
   "cell_type": "code",
   "execution_count": 27,
   "metadata": {
    "execution": {
     "iopub.execute_input": "2020-11-23T15:33:42.229111Z",
     "iopub.status.busy": "2020-11-23T15:33:42.228148Z",
     "iopub.status.idle": "2020-11-23T15:33:42.242381Z",
     "shell.execute_reply": "2020-11-23T15:33:42.241752Z"
    },
    "papermill": {
     "duration": 0.104064,
     "end_time": "2020-11-23T15:33:42.242519",
     "exception": false,
     "start_time": "2020-11-23T15:33:42.138455",
     "status": "completed"
    },
    "tags": []
   },
   "outputs": [
    {
     "name": "stdout",
     "output_type": "stream",
     "text": [
      "              precision    recall  f1-score   support\n",
      "\n",
      "           0       0.99      0.98      0.99       185\n",
      "           1       0.99      1.00      1.00       269\n",
      "           2       1.00      1.00      1.00       775\n",
      "\n",
      "    accuracy                           1.00      1229\n",
      "   macro avg       0.99      0.99      0.99      1229\n",
      "weighted avg       1.00      1.00      1.00      1229\n",
      "\n"
     ]
    }
   ],
   "source": [
    "print(classification_report(Y_pred,Y_test_mobilenet))"
   ]
  },
  {
   "cell_type": "code",
   "execution_count": 28,
   "metadata": {
    "execution": {
     "iopub.execute_input": "2020-11-23T15:33:42.421774Z",
     "iopub.status.busy": "2020-11-23T15:33:42.420707Z",
     "iopub.status.idle": "2020-11-23T15:33:42.433195Z",
     "shell.execute_reply": "2020-11-23T15:33:42.433871Z"
    },
    "papermill": {
     "duration": 0.104983,
     "end_time": "2020-11-23T15:33:42.434028",
     "exception": false,
     "start_time": "2020-11-23T15:33:42.329045",
     "status": "completed"
    },
    "tags": []
   },
   "outputs": [
    {
     "name": "stdout",
     "output_type": "stream",
     "text": [
      "              precision    recall  f1-score   support\n",
      "\n",
      "           0       0.99      0.97      0.98       185\n",
      "           1       0.99      0.99      0.99       269\n",
      "           2       0.99      1.00      0.99       775\n",
      "\n",
      "    accuracy                           0.99      1229\n",
      "   macro avg       0.99      0.99      0.99      1229\n",
      "weighted avg       0.99      0.99      0.99      1229\n",
      "\n"
     ]
    }
   ],
   "source": [
    "print(classification_report(Y_pred,Y_test_vgg))"
   ]
  },
  {
   "cell_type": "code",
   "execution_count": 29,
   "metadata": {
    "execution": {
     "iopub.execute_input": "2020-11-23T15:33:42.607995Z",
     "iopub.status.busy": "2020-11-23T15:33:42.607179Z",
     "iopub.status.idle": "2020-11-23T15:33:42.615725Z",
     "shell.execute_reply": "2020-11-23T15:33:42.615123Z"
    },
    "papermill": {
     "duration": 0.097312,
     "end_time": "2020-11-23T15:33:42.615845",
     "exception": false,
     "start_time": "2020-11-23T15:33:42.518533",
     "status": "completed"
    },
    "tags": []
   },
   "outputs": [
    {
     "name": "stdout",
     "output_type": "stream",
     "text": [
      "[[180   0   5]\n",
      " [  0 264   5]\n",
      " [  0   2 773]]\n"
     ]
    }
   ],
   "source": [
    "print(confusion_matrix(Y_pred,Y_test_inception))\n"
   ]
  },
  {
   "cell_type": "code",
   "execution_count": 30,
   "metadata": {
    "execution": {
     "iopub.execute_input": "2020-11-23T15:33:42.794302Z",
     "iopub.status.busy": "2020-11-23T15:33:42.793487Z",
     "iopub.status.idle": "2020-11-23T15:33:42.801091Z",
     "shell.execute_reply": "2020-11-23T15:33:42.801702Z"
    },
    "papermill": {
     "duration": 0.098861,
     "end_time": "2020-11-23T15:33:42.801841",
     "exception": false,
     "start_time": "2020-11-23T15:33:42.702980",
     "status": "completed"
    },
    "tags": []
   },
   "outputs": [
    {
     "name": "stdout",
     "output_type": "stream",
     "text": [
      "[[182   1   2]\n",
      " [  0 269   0]\n",
      " [  1   1 773]]\n"
     ]
    }
   ],
   "source": [
    "print(confusion_matrix(Y_pred,Y_test_mobilenet))"
   ]
  },
  {
   "cell_type": "code",
   "execution_count": 31,
   "metadata": {
    "execution": {
     "iopub.execute_input": "2020-11-23T15:33:42.976233Z",
     "iopub.status.busy": "2020-11-23T15:33:42.975320Z",
     "iopub.status.idle": "2020-11-23T15:33:42.983875Z",
     "shell.execute_reply": "2020-11-23T15:33:42.984573Z"
    },
    "papermill": {
     "duration": 0.097837,
     "end_time": "2020-11-23T15:33:42.984743",
     "exception": false,
     "start_time": "2020-11-23T15:33:42.886906",
     "status": "completed"
    },
    "tags": []
   },
   "outputs": [
    {
     "name": "stdout",
     "output_type": "stream",
     "text": [
      "[[179   1   5]\n",
      " [  0 267   2]\n",
      " [  2   1 772]]\n"
     ]
    }
   ],
   "source": [
    "print(confusion_matrix(Y_pred,Y_test_vgg))"
   ]
  },
  {
   "cell_type": "code",
   "execution_count": 32,
   "metadata": {
    "execution": {
     "iopub.execute_input": "2020-11-23T15:33:43.170212Z",
     "iopub.status.busy": "2020-11-23T15:33:43.169349Z",
     "iopub.status.idle": "2020-11-23T15:33:43.172992Z",
     "shell.execute_reply": "2020-11-23T15:33:43.173586Z"
    },
    "papermill": {
     "duration": 0.099785,
     "end_time": "2020-11-23T15:33:43.173716",
     "exception": false,
     "start_time": "2020-11-23T15:33:43.073931",
     "status": "completed"
    },
    "tags": []
   },
   "outputs": [
    {
     "data": {
      "text/plain": [
       "array([[2.8278255e-24, 2.3900024e-33, 1.0000000e+00],\n",
       "       [0.0000000e+00, 0.0000000e+00, 1.0000000e+00],\n",
       "       [0.0000000e+00, 0.0000000e+00, 1.0000000e+00],\n",
       "       ...,\n",
       "       [0.0000000e+00, 0.0000000e+00, 1.0000000e+00],\n",
       "       [1.0395737e-30, 8.7676186e-32, 1.0000000e+00],\n",
       "       [0.0000000e+00, 0.0000000e+00, 1.0000000e+00]], dtype=float32)"
      ]
     },
     "execution_count": 32,
     "metadata": {},
     "output_type": "execute_result"
    }
   ],
   "source": [
    "vgg_test"
   ]
  },
  {
   "cell_type": "code",
   "execution_count": 33,
   "metadata": {
    "execution": {
     "iopub.execute_input": "2020-11-23T15:33:43.367381Z",
     "iopub.status.busy": "2020-11-23T15:33:43.366278Z",
     "iopub.status.idle": "2020-11-23T15:33:43.405061Z",
     "shell.execute_reply": "2020-11-23T15:33:43.404510Z"
    },
    "papermill": {
     "duration": 0.142578,
     "end_time": "2020-11-23T15:33:43.405175",
     "exception": false,
     "start_time": "2020-11-23T15:33:43.262597",
     "status": "completed"
    },
    "tags": []
   },
   "outputs": [],
   "source": [
    "vgg.compile(optimizer = tf.keras.optimizers.RMSprop(learning_rate=0.0002), loss=tf.keras.losses.CategoricalCrossentropy(from_logits = False) , metrics=['accuracy'])\n",
    "inception.compile(optimizer = tf.keras.optimizers.RMSprop(learning_rate=0.0002), loss=tf.keras.losses.CategoricalCrossentropy(from_logits = False) , metrics=['accuracy'])\n",
    "mobilenet.compile(optimizer = tf.keras.optimizers.RMSprop(learning_rate=0.0002), loss=tf.keras.losses.CategoricalCrossentropy(from_logits = False) , metrics=['accuracy'])"
   ]
  },
  {
   "cell_type": "code",
   "execution_count": 34,
   "metadata": {
    "execution": {
     "iopub.execute_input": "2020-11-23T15:33:43.622505Z",
     "iopub.status.busy": "2020-11-23T15:33:43.621511Z",
     "iopub.status.idle": "2020-11-23T15:33:43.629727Z",
     "shell.execute_reply": "2020-11-23T15:33:43.630502Z"
    },
    "papermill": {
     "duration": 0.13954,
     "end_time": "2020-11-23T15:33:43.630693",
     "exception": false,
     "start_time": "2020-11-23T15:33:43.491153",
     "status": "completed"
    },
    "tags": []
   },
   "outputs": [],
   "source": [
    "from sklearn.metrics import classification_report, confusion_matrix,accuracy_score, precision_recall_curve\n"
   ]
  },
  {
   "cell_type": "code",
   "execution_count": 35,
   "metadata": {
    "execution": {
     "iopub.execute_input": "2020-11-23T15:33:43.883447Z",
     "iopub.status.busy": "2020-11-23T15:33:43.882521Z",
     "iopub.status.idle": "2020-11-23T15:33:49.058984Z",
     "shell.execute_reply": "2020-11-23T15:33:49.058435Z"
    },
    "papermill": {
     "duration": 5.305336,
     "end_time": "2020-11-23T15:33:49.059108",
     "exception": false,
     "start_time": "2020-11-23T15:33:43.753772",
     "status": "completed"
    },
    "tags": []
   },
   "outputs": [
    {
     "name": "stdout",
     "output_type": "stream",
     "text": [
      "39/39 [==============================] - 3s 79ms/step - loss: 0.1473 - accuracy: 0.9910\n"
     ]
    },
    {
     "data": {
      "text/plain": [
       "[0.14731088280677795, 0.9910496473312378]"
      ]
     },
     "execution_count": 35,
     "metadata": {},
     "output_type": "execute_result"
    }
   ],
   "source": [
    "vgg.evaluate(test_data,test_labels)\n"
   ]
  },
  {
   "cell_type": "code",
   "execution_count": 36,
   "metadata": {
    "execution": {
     "iopub.execute_input": "2020-11-23T15:33:49.272774Z",
     "iopub.status.busy": "2020-11-23T15:33:49.271714Z",
     "iopub.status.idle": "2020-11-23T15:33:54.989156Z",
     "shell.execute_reply": "2020-11-23T15:33:54.988180Z"
    },
    "papermill": {
     "duration": 5.824941,
     "end_time": "2020-11-23T15:33:54.989297",
     "exception": false,
     "start_time": "2020-11-23T15:33:49.164356",
     "status": "completed"
    },
    "tags": []
   },
   "outputs": [
    {
     "name": "stdout",
     "output_type": "stream",
     "text": [
      "39/39 [==============================] - 2s 55ms/step - loss: 0.2549 - accuracy: 0.9902\n"
     ]
    },
    {
     "data": {
      "text/plain": [
       "[0.2548980414867401, 0.9902359843254089]"
      ]
     },
     "execution_count": 36,
     "metadata": {},
     "output_type": "execute_result"
    }
   ],
   "source": [
    "inception.evaluate(test_data,test_labels)\n"
   ]
  },
  {
   "cell_type": "code",
   "execution_count": 37,
   "metadata": {
    "execution": {
     "iopub.execute_input": "2020-11-23T15:33:55.235950Z",
     "iopub.status.busy": "2020-11-23T15:33:55.234773Z",
     "iopub.status.idle": "2020-11-23T15:33:58.937091Z",
     "shell.execute_reply": "2020-11-23T15:33:58.936468Z"
    },
    "papermill": {
     "duration": 3.825867,
     "end_time": "2020-11-23T15:33:58.937230",
     "exception": false,
     "start_time": "2020-11-23T15:33:55.111363",
     "status": "completed"
    },
    "tags": []
   },
   "outputs": [
    {
     "name": "stdout",
     "output_type": "stream",
     "text": [
      "39/39 [==============================] - 1s 35ms/step - loss: 0.6770 - accuracy: 0.9764\n"
     ]
    },
    {
     "data": {
      "text/plain": [
       "[0.6769916415214539, 0.9764035940170288]"
      ]
     },
     "execution_count": 37,
     "metadata": {},
     "output_type": "execute_result"
    }
   ],
   "source": [
    "mobilenet.evaluate(test_data,test_labels)"
   ]
  },
  {
   "cell_type": "code",
   "execution_count": 38,
   "metadata": {
    "execution": {
     "iopub.execute_input": "2020-11-23T15:33:59.205464Z",
     "iopub.status.busy": "2020-11-23T15:33:59.204728Z",
     "iopub.status.idle": "2020-11-23T15:33:59.209634Z",
     "shell.execute_reply": "2020-11-23T15:33:59.209039Z"
    },
    "papermill": {
     "duration": 0.140179,
     "end_time": "2020-11-23T15:33:59.209752",
     "exception": false,
     "start_time": "2020-11-23T15:33:59.069573",
     "status": "completed"
    },
    "tags": []
   },
   "outputs": [],
   "source": [
    "def sugeno_fuzzy_integral_generalized(X, measure, axis = 0, f1 = np.minimum, f2 = np.amax, keepdims=True):\n",
    "    '''\n",
    "    Aggregates data using a generalization of the Choquet integral.\n",
    "    \n",
    "    :param X: Data to aggregate.\n",
    "    :param measure: Vector containing the measure numeric values (Symmetric!)\n",
    "    :param axis: Axis alongside to aggregate.\n",
    "    '''\n",
    "    X_sorted = np.sort(X, axis = axis)\n",
    "    return f2(f1(np.take(X_sorted, np.arange(0, X_sorted.shape[axis]), axis), measure), axis=axis, keepdims=keepdims)"
   ]
  },
  {
   "cell_type": "code",
   "execution_count": 39,
   "metadata": {
    "execution": {
     "iopub.execute_input": "2020-11-23T15:33:59.473899Z",
     "iopub.status.busy": "2020-11-23T15:33:59.473095Z",
     "iopub.status.idle": "2020-11-23T15:33:59.477479Z",
     "shell.execute_reply": "2020-11-23T15:33:59.476897Z"
    },
    "papermill": {
     "duration": 0.138722,
     "end_time": "2020-11-23T15:33:59.477589",
     "exception": false,
     "start_time": "2020-11-23T15:33:59.338867",
     "status": "completed"
    },
    "tags": []
   },
   "outputs": [],
   "source": [
    "def generate_cardinality(N, p = 2):\n",
    "    '''\n",
    "    Generate the cardinality measure for a N-sized vector.\n",
    "    '''\n",
    "    return [(x/ N)**p for x in np.arange(N, 0, -1)]\n"
   ]
  },
  {
   "cell_type": "code",
   "execution_count": 40,
   "metadata": {
    "execution": {
     "iopub.execute_input": "2020-11-23T15:33:59.752906Z",
     "iopub.status.busy": "2020-11-23T15:33:59.751895Z",
     "iopub.status.idle": "2020-11-23T15:33:59.865661Z",
     "shell.execute_reply": "2020-11-23T15:33:59.865013Z"
    },
    "papermill": {
     "duration": 0.25719,
     "end_time": "2020-11-23T15:33:59.865777",
     "exception": false,
     "start_time": "2020-11-23T15:33:59.608587",
     "status": "completed"
    },
    "tags": []
   },
   "outputs": [],
   "source": [
    "fuzzymeasure = generate_cardinality(vgg_test.shape[1])\n",
    "Ypred_fuzzy = np.zeros(shape = inception_test.shape, dtype = float)\n",
    "for sample in range(0,inception_test.shape[0]):\n",
    "    for classes in range(0,3):\n",
    "        scores = np.array([mobilenet_test[sample][classes],inception_test[sample][classes],vgg_test[sample][classes]])\n",
    "        fuzzy = sugeno_fuzzy_integral_generalized(scores,fuzzymeasure,axis = 0) \n",
    "\n",
    "       \n",
    "        Ypred_fuzzy[sample][classes] = fuzzy\n",
    "ypred_fuzzy = np.argmax(Ypred_fuzzy, axis=1)"
   ]
  },
  {
   "cell_type": "code",
   "execution_count": 41,
   "metadata": {
    "execution": {
     "iopub.execute_input": "2020-11-23T15:34:00.129093Z",
     "iopub.status.busy": "2020-11-23T15:34:00.127658Z",
     "iopub.status.idle": "2020-11-23T15:34:00.132571Z",
     "shell.execute_reply": "2020-11-23T15:34:00.133035Z"
    },
    "papermill": {
     "duration": 0.139511,
     "end_time": "2020-11-23T15:34:00.133167",
     "exception": false,
     "start_time": "2020-11-23T15:33:59.993656",
     "status": "completed"
    },
    "tags": []
   },
   "outputs": [
    {
     "data": {
      "text/plain": [
       "array([2, 2, 2, ..., 2, 2, 2])"
      ]
     },
     "execution_count": 41,
     "metadata": {},
     "output_type": "execute_result"
    }
   ],
   "source": [
    "ypred_fuzzy"
   ]
  },
  {
   "cell_type": "code",
   "execution_count": 42,
   "metadata": {
    "execution": {
     "iopub.execute_input": "2020-11-23T15:34:00.400586Z",
     "iopub.status.busy": "2020-11-23T15:34:00.399055Z",
     "iopub.status.idle": "2020-11-23T15:34:00.403293Z",
     "shell.execute_reply": "2020-11-23T15:34:00.403889Z"
    },
    "papermill": {
     "duration": 0.141881,
     "end_time": "2020-11-23T15:34:00.404029",
     "exception": false,
     "start_time": "2020-11-23T15:34:00.262148",
     "status": "completed"
    },
    "tags": []
   },
   "outputs": [],
   "source": [
    "pred_label = []\n",
    "for i in ypred_fuzzy:\n",
    "    label = np.zeros((3))\n",
    "    label[i] = label[i]+1\n",
    "    pred_label.append(label)\n",
    "pred_label = np.array(pred_label)"
   ]
  },
  {
   "cell_type": "code",
   "execution_count": 43,
   "metadata": {
    "execution": {
     "iopub.execute_input": "2020-11-23T15:34:00.675612Z",
     "iopub.status.busy": "2020-11-23T15:34:00.674550Z",
     "iopub.status.idle": "2020-11-23T15:34:00.684611Z",
     "shell.execute_reply": "2020-11-23T15:34:00.685208Z"
    },
    "papermill": {
     "duration": 0.149225,
     "end_time": "2020-11-23T15:34:00.685370",
     "exception": false,
     "start_time": "2020-11-23T15:34:00.536145",
     "status": "completed"
    },
    "tags": []
   },
   "outputs": [
    {
     "name": "stdout",
     "output_type": "stream",
     "text": [
      "0.9951179820992677\n"
     ]
    }
   ],
   "source": [
    "from sklearn.metrics import classification_report, confusion_matrix,accuracy_score\n",
    "\n",
    "print(accuracy_score(test_labels,pred_label))"
   ]
  },
  {
   "cell_type": "code",
   "execution_count": 44,
   "metadata": {
    "execution": {
     "iopub.execute_input": "2020-11-23T15:34:00.963684Z",
     "iopub.status.busy": "2020-11-23T15:34:00.962739Z",
     "iopub.status.idle": "2020-11-23T15:34:00.971404Z",
     "shell.execute_reply": "2020-11-23T15:34:00.972790Z"
    },
    "papermill": {
     "duration": 0.15289,
     "end_time": "2020-11-23T15:34:00.972934",
     "exception": false,
     "start_time": "2020-11-23T15:34:00.820044",
     "status": "completed"
    },
    "tags": []
   },
   "outputs": [
    {
     "name": "stdout",
     "output_type": "stream",
     "text": [
      "[[182   1   2]\n",
      " [  0 269   0]\n",
      " [  1   2 772]]\n"
     ]
    }
   ],
   "source": [
    "print(confusion_matrix(Y_pred,ypred_fuzzy))"
   ]
  },
  {
   "cell_type": "code",
   "execution_count": 45,
   "metadata": {
    "execution": {
     "iopub.execute_input": "2020-11-23T15:34:01.249066Z",
     "iopub.status.busy": "2020-11-23T15:34:01.248095Z",
     "iopub.status.idle": "2020-11-23T15:34:01.261795Z",
     "shell.execute_reply": "2020-11-23T15:34:01.261160Z"
    },
    "papermill": {
     "duration": 0.153561,
     "end_time": "2020-11-23T15:34:01.261922",
     "exception": false,
     "start_time": "2020-11-23T15:34:01.108361",
     "status": "completed"
    },
    "tags": []
   },
   "outputs": [
    {
     "name": "stdout",
     "output_type": "stream",
     "text": [
      "              precision    recall  f1-score   support\n",
      "\n",
      "           0       0.99      0.98      0.99       185\n",
      "           1       0.99      1.00      0.99       269\n",
      "           2       1.00      1.00      1.00       775\n",
      "\n",
      "    accuracy                           1.00      1229\n",
      "   macro avg       0.99      0.99      0.99      1229\n",
      "weighted avg       1.00      1.00      1.00      1229\n",
      "\n"
     ]
    }
   ],
   "source": [
    "print(classification_report(Y_pred,ypred_fuzzy))"
   ]
  },
  {
   "cell_type": "code",
   "execution_count": 46,
   "metadata": {
    "execution": {
     "iopub.execute_input": "2020-11-23T15:34:01.527694Z",
     "iopub.status.busy": "2020-11-23T15:34:01.526886Z",
     "iopub.status.idle": "2020-11-23T15:34:01.530217Z",
     "shell.execute_reply": "2020-11-23T15:34:01.530753Z"
    },
    "papermill": {
     "duration": 0.139132,
     "end_time": "2020-11-23T15:34:01.530879",
     "exception": false,
     "start_time": "2020-11-23T15:34:01.391747",
     "status": "completed"
    },
    "tags": []
   },
   "outputs": [
    {
     "data": {
      "text/plain": [
       "array([2, 2, 2, ..., 2, 2, 2])"
      ]
     },
     "execution_count": 46,
     "metadata": {},
     "output_type": "execute_result"
    }
   ],
   "source": [
    "Y_test_inception"
   ]
  },
  {
   "cell_type": "code",
   "execution_count": 47,
   "metadata": {
    "execution": {
     "iopub.execute_input": "2020-11-23T15:34:01.817180Z",
     "iopub.status.busy": "2020-11-23T15:34:01.816507Z",
     "iopub.status.idle": "2020-11-23T15:34:01.828890Z",
     "shell.execute_reply": "2020-11-23T15:34:01.829534Z"
    },
    "papermill": {
     "duration": 0.155519,
     "end_time": "2020-11-23T15:34:01.829715",
     "exception": false,
     "start_time": "2020-11-23T15:34:01.674196",
     "status": "completed"
    },
    "tags": []
   },
   "outputs": [
    {
     "name": "stdout",
     "output_type": "stream",
     "text": [
      "Average precision score, micro-averaged over all classes: 1.00\n"
     ]
    }
   ],
   "source": [
    "from sklearn.metrics import precision_recall_curve\n",
    "from sklearn.metrics import average_precision_score\n",
    "\n",
    "# For each class\n",
    "precision = dict()\n",
    "recall = dict()\n",
    "average_precision = dict()\n",
    "for i in range(3):\n",
    "    precision[i], recall[i], _ = precision_recall_curve(test_labels[:, i],\n",
    "                                                        inception_test[:, i])\n",
    "    average_precision[i] = average_precision_score(test_labels[:, i], inception_test[:, i])\n",
    "\n",
    "# A \"micro-average\": quantifying score on all classes jointly\n",
    "precision[\"micro\"], recall[\"micro\"], _ = precision_recall_curve(test_labels.ravel(),\n",
    "    inception_test.ravel())\n",
    "average_precision[\"micro\"] = average_precision_score(test_labels, inception_test,\n",
    "                                                     average=\"micro\")\n",
    "print('Average precision score, micro-averaged over all classes: {0:0.2f}'\n",
    "      .format(average_precision[\"micro\"]))"
   ]
  },
  {
   "cell_type": "code",
   "execution_count": 48,
   "metadata": {
    "execution": {
     "iopub.execute_input": "2020-11-23T15:34:02.114698Z",
     "iopub.status.busy": "2020-11-23T15:34:02.113724Z",
     "iopub.status.idle": "2020-11-23T15:34:02.125402Z",
     "shell.execute_reply": "2020-11-23T15:34:02.124831Z"
    },
    "papermill": {
     "duration": 0.158331,
     "end_time": "2020-11-23T15:34:02.125522",
     "exception": false,
     "start_time": "2020-11-23T15:34:01.967191",
     "status": "completed"
    },
    "tags": []
   },
   "outputs": [
    {
     "name": "stdout",
     "output_type": "stream",
     "text": [
      "Average precision score, micro-averaged over all classes: 1.00\n"
     ]
    }
   ],
   "source": [
    "from sklearn.metrics import precision_recall_curve\n",
    "from sklearn.metrics import average_precision_score\n",
    "\n",
    "# For each class\n",
    "precision = dict()\n",
    "recall = dict()\n",
    "average_precision = dict()\n",
    "for i in range(3):\n",
    "    precision[i], recall[i], _ = precision_recall_curve(test_labels[:, i],\n",
    "                                                        vgg_test[:, i])\n",
    "    average_precision[i] = average_precision_score(test_labels[:, i], vgg_test[:, i])\n",
    "\n",
    "# A \"micro-average\": quantifying score on all classes jointly\n",
    "precision[\"micro\"], recall[\"micro\"], _ = precision_recall_curve(test_labels.ravel(),\n",
    "    vgg_test.ravel())\n",
    "average_precision[\"micro\"] = average_precision_score(test_labels, vgg_test,\n",
    "                                                     average=\"micro\")\n",
    "print('Average precision score, micro-averaged over all classes: {0:0.2f}'\n",
    "      .format(average_precision[\"micro\"]))"
   ]
  },
  {
   "cell_type": "code",
   "execution_count": 49,
   "metadata": {
    "execution": {
     "iopub.execute_input": "2020-11-23T15:34:02.395635Z",
     "iopub.status.busy": "2020-11-23T15:34:02.394658Z",
     "iopub.status.idle": "2020-11-23T15:34:02.406338Z",
     "shell.execute_reply": "2020-11-23T15:34:02.407126Z"
    },
    "papermill": {
     "duration": 0.153773,
     "end_time": "2020-11-23T15:34:02.407319",
     "exception": false,
     "start_time": "2020-11-23T15:34:02.253546",
     "status": "completed"
    },
    "tags": []
   },
   "outputs": [
    {
     "name": "stdout",
     "output_type": "stream",
     "text": [
      "Average precision score, micro-averaged over all classes: 0.98\n"
     ]
    }
   ],
   "source": [
    "from sklearn.metrics import precision_recall_curve\n",
    "from sklearn.metrics import average_precision_score\n",
    "\n",
    "# For each class\n",
    "precision = dict()\n",
    "recall = dict()\n",
    "average_precision = dict()\n",
    "for i in range(3):\n",
    "    precision[i], recall[i], _ = precision_recall_curve(test_labels[:, i],\n",
    "                                                        mobilenet_test[:, i])\n",
    "    average_precision[i] = average_precision_score(test_labels[:, i], mobilenet_test[:, i])\n",
    "\n",
    "# A \"micro-average\": quantifying score on all classes jointly\n",
    "precision[\"micro\"], recall[\"micro\"], _ = precision_recall_curve(test_labels.ravel(),\n",
    "    mobilenet_test.ravel())\n",
    "average_precision[\"micro\"] = average_precision_score(test_labels, mobilenet_test,\n",
    "                                                     average=\"micro\")\n",
    "print('Average precision score, micro-averaged over all classes: {0:0.2f}'\n",
    "      .format(average_precision[\"micro\"]))"
   ]
  },
  {
   "cell_type": "code",
   "execution_count": 50,
   "metadata": {
    "execution": {
     "iopub.execute_input": "2020-11-23T15:34:02.712855Z",
     "iopub.status.busy": "2020-11-23T15:34:02.711893Z",
     "iopub.status.idle": "2020-11-23T15:34:04.239067Z",
     "shell.execute_reply": "2020-11-23T15:34:04.239677Z"
    },
    "papermill": {
     "duration": 1.705905,
     "end_time": "2020-11-23T15:34:04.239836",
     "exception": false,
     "start_time": "2020-11-23T15:34:02.533931",
     "status": "completed"
    },
    "tags": []
   },
   "outputs": [
    {
     "data": {
      "image/png": "[encoded data removed]",
      "text/plain": [
       "<Figure size 504x576 with 1 Axes>"
      ]
     },
     "metadata": {
      "needs_background": "light"
     },
     "output_type": "display_data"
    }
   ],
   "source": [
    "from itertools import cycle\n",
    "# setup plot details\n",
    "colors = cycle(['navy', 'turquoise', 'darkorange', 'cornflowerblue', 'teal'])\n",
    "\n",
    "plt.figure(figsize=(7, 8))\n",
    "f_scores = np.linspace(0.2, 0.8, num=4)\n",
    "lines = []\n",
    "labels = []\n",
    "for f_score in f_scores:\n",
    "    x = np.linspace(0.01, 1)\n",
    "    y = f_score * x / (2 * x - f_score)\n",
    "    l, = plt.plot(x[y >= 0], y[y >= 0], color='gray', alpha=0.2)\n",
    "    plt.annotate('f1={0:0.1f}'.format(f_score), xy=(0.9, y[45] + 0.02))\n",
    "\n",
    "lines.append(l)\n",
    "labels.append('iso-f1 curves')\n",
    "l, = plt.plot(recall[\"micro\"], precision[\"micro\"], color='gold', lw=2)\n",
    "lines.append(l)\n",
    "labels.append('micro-average Precision-recall (area = {0:0.2f})'\n",
    "              ''.format(average_precision[\"micro\"]))\n",
    "\n",
    "for i, color in zip(range(3), colors):\n",
    "    l, = plt.plot(recall[i], precision[i], color=color, lw=2)\n",
    "    lines.append(l)\n",
    "    labels.append('Precision-recall for class {0} (area = {1:0.2f})'\n",
    "                  ''.format(i, average_precision[i]))\n",
    "\n",
    "fig = plt.gcf()\n",
    "fig.subplots_adjust(bottom=0.25)\n",
    "plt.xlim([0.98, 1.0])\n",
    "plt.ylim([0.9, 1.05])\n",
    "plt.xlabel('Recall')\n",
    "plt.ylabel('Precision')\n",
    "plt.title('Extension of Precision-Recall curve to multi-class')\n",
    "plt.legend(lines, labels, loc=(0, -.38), prop=dict(size=14))\n",
    "\n",
    "fig.savefig('mobilenet_curve.png', dpi=400)\n",
    "plt.show()"
   ]
  },
  {
   "cell_type": "code",
   "execution_count": 51,
   "metadata": {
    "execution": {
     "iopub.execute_input": "2020-11-23T15:34:04.528943Z",
     "iopub.status.busy": "2020-11-23T15:34:04.518591Z",
     "iopub.status.idle": "2020-11-23T15:34:05.848361Z",
     "shell.execute_reply": "2020-11-23T15:34:05.848963Z"
    },
    "papermill": {
     "duration": 1.470392,
     "end_time": "2020-11-23T15:34:05.849117",
     "exception": false,
     "start_time": "2020-11-23T15:34:04.378725",
     "status": "completed"
    },
    "tags": []
   },
   "outputs": [
    {
     "data": {
      "image/png": "[encoded data removed]",
      "text/plain": [
       "<Figure size 504x576 with 1 Axes>"
      ]
     },
     "metadata": {
      "needs_background": "light"
     },
     "output_type": "display_data"
    }
   ],
   "source": [
    "from itertools import cycle\n",
    "# setup plot details\n",
    "colors = cycle(['navy', 'turquoise', 'darkorange', 'cornflowerblue', 'teal'])\n",
    "\n",
    "plt.figure(figsize=(7, 8))\n",
    "f_scores = np.linspace(0.2, 0.8, num=4)\n",
    "lines = []\n",
    "labels = []\n",
    "for f_score in f_scores:\n",
    "    x = np.linspace(0.01, 1)\n",
    "    y = f_score * x / (2 * x - f_score)\n",
    "    l, = plt.plot(x[y >= 0], y[y >= 0], color='gray', alpha=0.2)\n",
    "    plt.annotate('f1={0:0.1f}'.format(f_score), xy=(0.9, y[45] + 0.02))\n",
    "\n",
    "lines.append(l)\n",
    "labels.append('iso-f1 curves')\n",
    "l, = plt.plot(recall[\"micro\"], precision[\"micro\"], color='gold', lw=2)\n",
    "lines.append(l)\n",
    "labels.append('micro-average Precision-recall (area = {0:0.2f})'\n",
    "              ''.format(average_precision[\"micro\"]))\n",
    "\n",
    "for i, color in zip(range(3), colors):\n",
    "    l, = plt.plot(recall[i], precision[i], color=color, lw=2)\n",
    "    lines.append(l)\n",
    "    labels.append('Precision-recall for class {0} (area = {1:0.2f})'\n",
    "                  ''.format(i, average_precision[i]))\n",
    "\n",
    "fig = plt.gcf()\n",
    "fig.subplots_adjust(bottom=0.25)\n",
    "plt.xlim([0.98, 1.0])\n",
    "plt.ylim([0.9, 1.05])\n",
    "plt.xlabel('Recall')\n",
    "plt.ylabel('Precision')\n",
    "plt.title('Extension of Precision-Recall curve to multi-class')\n",
    "plt.legend(lines, labels, loc=(0, -.38), prop=dict(size=14))\n",
    "\n",
    "fig.savefig('vgg_curve.png', dpi=400)\n",
    "plt.show()"
   ]
  },
  {
   "cell_type": "code",
   "execution_count": 52,
   "metadata": {
    "execution": {
     "iopub.execute_input": "2020-11-23T15:34:06.185894Z",
     "iopub.status.busy": "2020-11-23T15:34:06.173676Z",
     "iopub.status.idle": "2020-11-23T15:34:07.435074Z",
     "shell.execute_reply": "2020-11-23T15:34:07.435669Z"
    },
    "papermill": {
     "duration": 1.431883,
     "end_time": "2020-11-23T15:34:07.435830",
     "exception": false,
     "start_time": "2020-11-23T15:34:06.003947",
     "status": "completed"
    },
    "tags": []
   },
   "outputs": [
    {
     "data": {
      "image/png": "[encoded data removed]",
      "text/plain": [
       "<Figure size 504x576 with 1 Axes>"
      ]
     },
     "metadata": {
      "needs_background": "light"
     },
     "output_type": "display_data"
    }
   ],
   "source": [
    "from itertools import cycle\n",
    "# setup plot details\n",
    "colors = cycle(['navy', 'turquoise', 'darkorange', 'cornflowerblue', 'teal'])\n",
    "\n",
    "plt.figure(figsize=(7, 8))\n",
    "f_scores = np.linspace(0.2, 0.8, num=4)\n",
    "lines = []\n",
    "labels = []\n",
    "for f_score in f_scores:\n",
    "    x = np.linspace(0.01, 1)\n",
    "    y = f_score * x / (2 * x - f_score)\n",
    "    l, = plt.plot(x[y >= 0], y[y >= 0], color='gray', alpha=0.2)\n",
    "    plt.annotate('f1={0:0.1f}'.format(f_score), xy=(0.9, y[45] + 0.02))\n",
    "\n",
    "lines.append(l)\n",
    "labels.append('iso-f1 curves')\n",
    "l, = plt.plot(recall[\"micro\"], precision[\"micro\"], color='gold', lw=2)\n",
    "lines.append(l)\n",
    "labels.append('micro-average Precision-recall (area = {0:0.2f})'\n",
    "              ''.format(average_precision[\"micro\"]))\n",
    "\n",
    "for i, color in zip(range(3), colors):\n",
    "    l, = plt.plot(recall[i], precision[i], color=color, lw=2)\n",
    "    lines.append(l)\n",
    "    labels.append('Precision-recall for class {0} (area = {1:0.2f})'\n",
    "                  ''.format(i, average_precision[i]))\n",
    "\n",
    "fig = plt.gcf()\n",
    "fig.subplots_adjust(bottom=0.25)\n",
    "plt.xlim([0.98, 1.0])\n",
    "plt.ylim([0.9, 1.05])\n",
    "plt.xlabel('Recall')\n",
    "plt.ylabel('Precision')\n",
    "plt.title('Extension of Precision-Recall curve to multi-class')\n",
    "plt.legend(lines, labels, loc=(0, -.38), prop=dict(size=14))\n",
    "\n",
    "fig.savefig('inception_curve.png', dpi=400)\n",
    "plt.show()"
   ]
  },
  {
   "cell_type": "code",
   "execution_count": 53,
   "metadata": {
    "execution": {
     "iopub.execute_input": "2020-11-23T15:34:07.739301Z",
     "iopub.status.busy": "2020-11-23T15:34:07.738287Z",
     "iopub.status.idle": "2020-11-23T15:34:12.739019Z",
     "shell.execute_reply": "2020-11-23T15:34:12.737588Z"
    },
    "papermill": {
     "duration": 5.167997,
     "end_time": "2020-11-23T15:34:12.739185",
     "exception": false,
     "start_time": "2020-11-23T15:34:07.571188",
     "status": "completed"
    },
    "tags": []
   },
   "outputs": [],
   "source": [
    "vgg.save(\"VGG.h5\")\n",
    "inception.save(\"inception.h5\")\n",
    "mobilenet.save(\"mobilenet.h5\")"
   ]
  },
  {
   "cell_type": "code",
   "execution_count": null,
   "metadata": {
    "papermill": {
     "duration": 0.256394,
     "end_time": "2020-11-23T15:34:13.293009",
     "exception": false,
     "start_time": "2020-11-23T15:34:13.036615",
     "status": "completed"
    },
    "tags": []
   },
   "outputs": [],
   "source": []
  },
  {
   "cell_type": "code",
   "execution_count": 54,
   "metadata": {
    "execution": {
     "iopub.execute_input": "2020-11-23T15:34:13.855867Z",
     "iopub.status.busy": "2020-11-23T15:34:13.854850Z",
     "iopub.status.idle": "2020-11-23T15:34:15.210357Z",
     "shell.execute_reply": "2020-11-23T15:34:15.208954Z"
    },
    "papermill": {
     "duration": 1.748823,
     "end_time": "2020-11-23T15:34:15.210526",
     "exception": false,
     "start_time": "2020-11-23T15:34:13.461703",
     "status": "completed"
    },
    "tags": []
   },
   "outputs": [],
   "source": [
    "from sympy.solvers import solve\n",
    "from sympy import Symbol\n",
    "fuzzymeasures = np.array([0.09,0.08,0.07])\n",
    "l = Symbol('l', real = True)\n",
    "lam = solve(  ( 1 + l* fuzzymeasures[0]) * ( 1 + l* fuzzymeasures[1]) *( 1 + l* fuzzymeasures[2]) - (l+1), l )\n",
    "lam = lam[1]\n",
    "Ypred_fuzzy = np.zeros(shape = inception_test.shape, dtype = float)"
   ]
  },
  {
   "cell_type": "code",
   "execution_count": 55,
   "metadata": {
    "execution": {
     "iopub.execute_input": "2020-11-23T15:34:16.258906Z",
     "iopub.status.busy": "2020-11-23T15:34:16.257881Z",
     "iopub.status.idle": "2020-11-23T15:34:19.087614Z",
     "shell.execute_reply": "2020-11-23T15:34:19.086786Z"
    },
    "papermill": {
     "duration": 3.710907,
     "end_time": "2020-11-23T15:34:19.087737",
     "exception": false,
     "start_time": "2020-11-23T15:34:15.376830",
     "status": "completed"
    },
    "tags": []
   },
   "outputs": [],
   "source": [
    "\n",
    "for sample in range(0,inception_test.shape[0]):\n",
    "    for classes in range(0,3):\n",
    "        scores = np.array([mobilenet_test[sample][classes],inception_test[sample][classes],vgg_test[sample][classes]])\n",
    "        #print(scores.shape)\n",
    "        permutedidx = np.flip(np.argsort(scores))\n",
    "        #print(permutedidx.shape)\n",
    "        scoreslambda = scores[permutedidx]\n",
    "        #print(scoreslambda.shape)\n",
    "        fmlambda = fuzzymeasures[permutedidx]\n",
    "\n",
    "        ge_prev = fmlambda[0]\n",
    "        fuzzyprediction = scoreslambda[0] * fmlambda[0]\n",
    "\n",
    "        for i in range(1,2):\n",
    "            ge_curr = ge_prev + fmlambda[i] + lam * fmlambda[i] * ge_prev\n",
    "            fuzzyprediction = fuzzyprediction + scoreslambda[i] *(ge_curr - ge_prev)\n",
    "            ge_prev = ge_curr\n",
    "\n",
    "        fuzzyprediction = fuzzyprediction + scoreslambda[2] * ( 1 - ge_prev)\n",
    "        Ypred_fuzzy[sample][classes] = fuzzyprediction\n",
    "ypred_fuzzy = np.argmax(Ypred_fuzzy, axis=1)"
   ]
  },
  {
   "cell_type": "code",
   "execution_count": 56,
   "metadata": {
    "execution": {
     "iopub.execute_input": "2020-11-23T15:34:19.378212Z",
     "iopub.status.busy": "2020-11-23T15:34:19.376730Z",
     "iopub.status.idle": "2020-11-23T15:34:19.381438Z",
     "shell.execute_reply": "2020-11-23T15:34:19.380932Z"
    },
    "papermill": {
     "duration": 0.154493,
     "end_time": "2020-11-23T15:34:19.381552",
     "exception": false,
     "start_time": "2020-11-23T15:34:19.227059",
     "status": "completed"
    },
    "tags": []
   },
   "outputs": [],
   "source": [
    "\n",
    "pred_label = []\n",
    "for i in ypred_fuzzy:\n",
    "    label = np.zeros((3))\n",
    "    label[i] = label[i]+1\n",
    "    pred_label.append(label)\n",
    "pred_label = np.array(pred_label)"
   ]
  },
  {
   "cell_type": "code",
   "execution_count": null,
   "metadata": {
    "papermill": {
     "duration": 0.144085,
     "end_time": "2020-11-23T15:34:19.661009",
     "exception": false,
     "start_time": "2020-11-23T15:34:19.516924",
     "status": "completed"
    },
    "tags": []
   },
   "outputs": [],
   "source": []
  },
  {
   "cell_type": "code",
   "execution_count": 57,
   "metadata": {
    "execution": {
     "iopub.execute_input": "2020-11-23T15:34:20.001115Z",
     "iopub.status.busy": "2020-11-23T15:34:20.000188Z",
     "iopub.status.idle": "2020-11-23T15:34:20.022472Z",
     "shell.execute_reply": "2020-11-23T15:34:20.023326Z"
    },
    "papermill": {
     "duration": 0.207316,
     "end_time": "2020-11-23T15:34:20.023532",
     "exception": false,
     "start_time": "2020-11-23T15:34:19.816216",
     "status": "completed"
    },
    "tags": []
   },
   "outputs": [
    {
     "name": "stdout",
     "output_type": "stream",
     "text": [
      "              precision    recall  f1-score   support\n",
      "\n",
      "           0       0.99      0.98      0.99       185\n",
      "           1       0.99      1.00      0.99       269\n",
      "           2       1.00      1.00      1.00       775\n",
      "\n",
      "   micro avg       0.99      0.99      0.99      1229\n",
      "   macro avg       0.99      0.99      0.99      1229\n",
      "weighted avg       0.99      0.99      0.99      1229\n",
      " samples avg       0.99      0.99      0.99      1229\n",
      "\n",
      "0.9943043124491456\n"
     ]
    }
   ],
   "source": [
    "from sklearn.metrics import classification_report, confusion_matrix,accuracy_score\n",
    "print(classification_report(test_labels,pred_label))\n",
    "print(accuracy_score(test_labels,pred_label))"
   ]
  },
  {
   "cell_type": "code",
   "execution_count": null,
   "metadata": {
    "papermill": {
     "duration": 0.150673,
     "end_time": "2020-11-23T15:34:20.323848",
     "exception": false,
     "start_time": "2020-11-23T15:34:20.173175",
     "status": "completed"
    },
    "tags": []
   },
   "outputs": [],
   "source": []
  },
  {
   "cell_type": "code",
   "execution_count": null,
   "metadata": {
    "papermill": {
     "duration": 0.16578,
     "end_time": "2020-11-23T15:34:20.638487",
     "exception": false,
     "start_time": "2020-11-23T15:34:20.472707",
     "status": "completed"
    },
    "tags": []
   },
   "outputs": [],
   "source": []
  }
 ],
 "metadata": {
  "kernelspec": {
   "display_name": "Python 3",
   "language": "python",
   "name": "python3"
  },
  "language_info": {
   "codemirror_mode": {
    "name": "ipython",
    "version": 3
   },
   "file_extension": ".py",
   "mimetype": "text/x-python",
   "name": "python",
   "nbconvert_exporter": "python",
   "pygments_lexer": "ipython3",
   "version": "3.7.6"
  },
  "papermill": {
   "duration": 237.948549,
   "end_time": "2020-11-23T15:34:22.829279",
   "environment_variables": {},
   "exception": null,
   "input_path": "__notebook__.ipynb",
   "output_path": "__notebook__.ipynb",
   "parameters": {},
   "start_time": "2020-11-23T15:30:24.880730",
   "version": "2.1.0"
  }
 },
 "nbformat": 4,
 "nbformat_minor": 4
}
